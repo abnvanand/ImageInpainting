{
  "nbformat": 4,
  "nbformat_minor": 0,
  "metadata": {
    "colab": {
      "name": "Inpainting.ipynb",
      "provenance": [],
      "collapsed_sections": []
    },
    "kernelspec": {
      "name": "python3",
      "display_name": "Python 3"
    },
    "accelerator": "GPU"
  },
  "cells": [
    {
      "cell_type": "code",
      "metadata": {
        "id": "6IdVAfP8UEp6",
        "colab_type": "code",
        "outputId": "c85c40e3-3b13-4918-9361-1d481076d644",
        "colab": {
          "base_uri": "https://localhost:8080/",
          "height": 34
        }
      },
      "source": [
        "from google.colab import drive\n",
        "drive.mount(\"/content/drive\", force_remount=True)"
      ],
      "execution_count": 15,
      "outputs": [
        {
          "output_type": "stream",
          "text": [
            "Mounted at /content/drive\n"
          ],
          "name": "stdout"
        }
      ]
    },
    {
      "cell_type": "code",
      "metadata": {
        "id": "VHsV-C85UIg5",
        "colab_type": "code",
        "outputId": "ef639c4d-fa48-4ed3-f161-e17fc8627c99",
        "colab": {
          "base_uri": "https://localhost:8080/",
          "height": 156
        }
      },
      "source": [
        "PREFIX = \"/content/drive/My Drive/Project/\"\n",
        "!ls \"$PREFIX\""
      ],
      "execution_count": 16,
      "outputs": [
        {
          "output_type": "stream",
          "text": [
            "AkaashNormal.ttf\t\t      Inpainting.ipynb\n",
            "cracklib-small\t\t\t      input\n",
            "DA_PatchingCombined.bak.ipynb\t      input64\n",
            "DA_PatchingCombined.ipynb\t      input-large\n",
            "DA_PatchingCombined-Neeraj.ipynb      Patching.ipynb\n",
            "DA_PatchingCombined_water_mark.ipynb  Patching.py\n",
            "DenoisingAutoencoder.bak.ipynb\t      results\n",
            "DenoisingAutoencoderMNIST.ipynb\n"
          ],
          "name": "stdout"
        }
      ]
    },
    {
      "cell_type": "code",
      "metadata": {
        "id": "KHgph2DC2wL_",
        "colab_type": "code",
        "trusted": true,
        "colab": {}
      },
      "source": [
        "import keras\n",
        "from keras.datasets import mnist,  fashion_mnist\n",
        "import numpy as np\n",
        "from keras.models import Sequential\n",
        "from keras.models import Model\n",
        "from keras.layers import Dense, InputLayer, Input\n",
        "import matplotlib.pyplot as plt\n",
        "from PIL import Image, ImageFont, ImageDraw\n",
        "import random\n",
        "import cv2"
      ],
      "execution_count": 0,
      "outputs": []
    },
    {
      "cell_type": "code",
      "metadata": {
        "id": "ajxxjoFg25rP",
        "colab_type": "code",
        "trusted": true,
        "outputId": "d67a3337-41a4-4880-ac22-e7f5417c86f2",
        "colab": {
          "base_uri": "https://localhost:8080/",
          "height": 69
        }
      },
      "source": [
        "# data set of dim 28x28 greyscale images\n",
        "(x_train, _), (x_test, _) = fashion_mnist.load_data()\n",
        "\n",
        "# original dimensions of train & test datasets\n",
        "print(\"x_train.shape\", x_train.shape)\n",
        "print(\"x_test.shape\", x_test.shape)\n",
        "print(\"type(x_train)\", type(x_train))\n",
        "n, h, w = x_train.shape\n",
        "c = 1"
      ],
      "execution_count": 18,
      "outputs": [
        {
          "output_type": "stream",
          "text": [
            "x_train.shape (60000, 28, 28)\n",
            "x_test.shape (10000, 28, 28)\n",
            "type(x_train) <class 'numpy.ndarray'>\n"
          ],
          "name": "stdout"
        }
      ]
    },
    {
      "cell_type": "code",
      "metadata": {
        "id": "rme7ZtzQ7KKe",
        "colab_type": "code",
        "trusted": true,
        "outputId": "f076af6e-9b10-4687-819c-d2b9524c0adc",
        "colab": {
          "base_uri": "https://localhost:8080/",
          "height": 34
        }
      },
      "source": [
        "# Reshape to include channel in dimension\n",
        "# TODO: change channel to 3 when using RGB images\n",
        "x_train = np.reshape(x_train, (len(x_train), h, w, c))  # by default uses `channels_last` image data format\n",
        "x_test = np.reshape(x_test, (len(x_test), h, w, c))\n",
        "\n",
        "# Dimensions after including channel info\n",
        "x_train.shape, x_test.shape"
      ],
      "execution_count": 19,
      "outputs": [
        {
          "output_type": "execute_result",
          "data": {
            "text/plain": [
              "((60000, 28, 28, 1), (10000, 28, 28, 1))"
            ]
          },
          "metadata": {
            "tags": []
          },
          "execution_count": 19
        }
      ]
    },
    {
      "cell_type": "code",
      "metadata": {
        "trusted": true,
        "id": "xqHXHIXZxLRr",
        "colab_type": "code",
        "colab": {}
      },
      "source": [
        "def add_noise(data, noise_factor = 0.5):\n",
        "    # add noise\n",
        "    res = data + noise_factor * np.random.normal(loc=0.0, scale=1.0, size=data.shape) \n",
        "\n",
        "    # clip to range\n",
        "    res = np.clip(res, 0., 1.)\n",
        "    return res\n",
        "\n",
        "\n",
        "def random_line(fname):\n",
        "    lines = open(fname).read().splitlines()\n",
        "    return random.choice(lines)\n",
        "\n",
        "def helper_watermark(image_name):\n",
        "    image_name = image_name.reshape(image_name.shape[0], image_name.shape[1])\n",
        "    im = Image.fromarray(image_name, \"L\")\n",
        "    initial_coordinate = 0\n",
        "    font_type = ImageFont.truetype((PREFIX+'AkaashNormal.ttf'), 10)\n",
        "    \n",
        "    for j in range(3):\n",
        "        sentence = \"\"\n",
        "        for i in range(2):\n",
        "            sentence = sentence + \" \" + random_line(PREFIX + 'cracklib-small')\n",
        "        draw = ImageDraw.Draw(im)\n",
        "        draw.text((5, initial_coordinate), sentence, font=font_type, fill=(0))\n",
        "        initial_coordinate = initial_coordinate + 5\n",
        "#     im.show()\n",
        "    return np.asarray(im)\n",
        "\n",
        "def add_water_mark(data):\n",
        "    noisy = np.array([helper_watermark(i) for i in data])\n",
        "    noisy = noisy.reshape(noisy.shape[0], noisy.shape[1], noisy.shape[2] , c)\n",
        "    return noisy\n",
        "\n",
        "x_train_noisy = add_water_mark(x_train)\n",
        "x_test_noisy = add_water_mark(x_test)\n",
        "\n",
        "# x_train_noisy = add_noise(x_train)\n",
        "# x_test_noisy = add_noise(x_test)"
      ],
      "execution_count": 0,
      "outputs": []
    },
    {
      "cell_type": "code",
      "metadata": {
        "id": "Ae3vkOKV6QNg",
        "colab_type": "code",
        "colab": {}
      },
      "source": [
        "# normalize to range [0,1]\n",
        "x_train = x_train.astype('float32') / 255.\n",
        "x_test = x_test.astype('float32') / 255.\n",
        "x_train_noisy = x_train_noisy.astype('float32') / 255.\n",
        "x_test_noisy = x_test_noisy.astype('float32') / 255."
      ],
      "execution_count": 0,
      "outputs": []
    },
    {
      "cell_type": "code",
      "metadata": {
        "trusted": true,
        "id": "B6cUiSqPxLR1",
        "colab_type": "code",
        "colab": {}
      },
      "source": [
        "def sigmoid(x, derivative=False):\n",
        "    sigm = 1. / (1. + np.exp(-x))\n",
        "    if derivative:\n",
        "        return sigm * (1. - sigm)\n",
        "    return sigm"
      ],
      "execution_count": 0,
      "outputs": []
    },
    {
      "cell_type": "code",
      "metadata": {
        "trusted": true,
        "id": "xWHk_XaAxLR9",
        "colab_type": "code",
        "colab": {}
      },
      "source": [
        "# KL Divergence regularizer for hidden unit activations\n",
        "import keras # if using keras\n",
        "import tensorflow as tf\n",
        "# from tensorflow import keras # if using tf.keras\n",
        "kullback_leibler_divergence = keras.losses.kullback_leibler_divergence\n",
        "K = keras.backend\n",
        "\n",
        "def kl_divergence_regularizer(activations):\n",
        "    rho_hat = K.mean(activations, axis=0)\n",
        "    nprho = np.full((rho_hat.get_shape().as_list()[0],) ,0.05)\n",
        "    rho = tf.convert_to_tensor(nprho, dtype=tf.float32)\n",
        "    return 0.01 * (kullback_leibler_divergence(rho, rho_hat)\n",
        "                 + kullback_leibler_divergence(1 - rho, 1 - rho_hat))"
      ],
      "execution_count": 0,
      "outputs": []
    },
    {
      "cell_type": "code",
      "metadata": {
        "id": "m_Ik7X9b3414",
        "colab_type": "code",
        "trusted": true,
        "colab": {
          "base_uri": "https://localhost:8080/",
          "height": 86
        },
        "outputId": "c8fd2e85-01c5-421c-ee3c-d29efabdb41c"
      },
      "source": [
        "x_train.shape, x_train_noisy.shape, x_test.shape, x_test_noisy.shape"
      ],
      "execution_count": 24,
      "outputs": [
        {
          "output_type": "execute_result",
          "data": {
            "text/plain": [
              "((60000, 28, 28, 1),\n",
              " (60000, 28, 28, 1),\n",
              " (10000, 28, 28, 1),\n",
              " (10000, 28, 28, 1))"
            ]
          },
          "metadata": {
            "tags": []
          },
          "execution_count": 24
        }
      ]
    },
    {
      "cell_type": "code",
      "metadata": {
        "id": "rMS-xWKM96Af",
        "colab_type": "code",
        "trusted": true,
        "colab": {
          "base_uri": "https://localhost:8080/",
          "height": 34
        },
        "outputId": "f7e67b71-4ded-4f33-a424-3f17256325c4"
      },
      "source": [
        "# reshape(flatten) so that we can pass to neural network\n",
        "x_train = x_train.reshape(len(x_train), np.prod(x_train.shape[1:]))\n",
        "x_train_noisy = x_train_noisy.reshape(len(x_train_noisy), np.prod(x_train_noisy.shape[1:]))\n",
        "\n",
        "x_test = x_test.reshape(len(x_test), np.prod(x_test.shape[1:]))\n",
        "x_test_noisy = x_test_noisy.reshape(len(x_test_noisy), np.prod(x_test_noisy.shape[1:]))\n",
        "\n",
        "# shape after flattening\n",
        "x_train.shape, x_train_noisy.shape, x_test.shape, x_test_noisy.shape"
      ],
      "execution_count": 25,
      "outputs": [
        {
          "output_type": "execute_result",
          "data": {
            "text/plain": [
              "((60000, 784), (60000, 784), (10000, 784), (10000, 784))"
            ]
          },
          "metadata": {
            "tags": []
          },
          "execution_count": 25
        }
      ]
    },
    {
      "cell_type": "code",
      "metadata": {
        "id": "tKygyuHY3KxL",
        "colab_type": "code",
        "trusted": true,
        "colab": {
          "base_uri": "https://localhost:8080/",
          "height": 197
        },
        "outputId": "14dae4a1-bb7c-4612-d0d5-0ca4d91d3565"
      },
      "source": [
        "# print first 10 test images\n",
        "n = 10\n",
        "plt.figure(figsize=(20, 3))\n",
        "for i in range(n):\n",
        "    ax = plt.subplot(2, n, i+1)\n",
        "    plt.imshow(x_test[i].reshape(h, w))\n",
        "    plt.gray()\n",
        "    ax.get_xaxis().set_visible(False)\n",
        "    ax.get_yaxis().set_visible(False)\n",
        "\n",
        "    ax = plt.subplot(2, n, i+1+10)\n",
        "    plt.imshow(x_test_noisy[i].reshape(h, w))\n",
        "    plt.gray()\n",
        "    ax.get_xaxis().set_visible(False)\n",
        "    ax.get_yaxis().set_visible(False)\n",
        "    \n",
        "\n",
        "plt.show()"
      ],
      "execution_count": 26,
      "outputs": [
        {
          "output_type": "display_data",
          "data": {
            "image/png": "[encoded data removed]",
            "text/plain": [
              "<Figure size 1440x216 with 20 Axes>"
            ]
          },
          "metadata": {
            "tags": []
          }
        }
      ]
    },
    {
      "cell_type": "code",
      "metadata": {
        "id": "rbCi29ic5hmp",
        "colab_type": "code",
        "trusted": true,
        "colab": {
          "base_uri": "https://localhost:8080/",
          "height": 260
        },
        "outputId": "b6749358-1278-4ee2-b120-3d307ab73731"
      },
      "source": [
        "lambdaa = 0.000001\n",
        "input_layer = Input(shape=(784,))\n",
        "hidden_layer = Dense(units=3*784, activation='sigmoid', \n",
        "                    activity_regularizer=kl_divergence_regularizer,\n",
        "                    kernel_regularizer=keras.regularizers.l2(lambdaa)\n",
        "                    )(input_layer)\n",
        "output_layer = Dense(units=784, activation='sigmoid',\n",
        "                    kernel_regularizer=keras.regularizers.l2(lambdaa)\n",
        "                    )(hidden_layer)\n",
        "da1 = Model(input_layer, output_layer)\n",
        "da1.summary()"
      ],
      "execution_count": 27,
      "outputs": [
        {
          "output_type": "stream",
          "text": [
            "Model: \"model_2\"\n",
            "_________________________________________________________________\n",
            "Layer (type)                 Output Shape              Param #   \n",
            "=================================================================\n",
            "input_2 (InputLayer)         (None, 784)               0         \n",
            "_________________________________________________________________\n",
            "dense_3 (Dense)              (None, 2352)              1846320   \n",
            "_________________________________________________________________\n",
            "dense_4 (Dense)              (None, 784)               1844752   \n",
            "=================================================================\n",
            "Total params: 3,691,072\n",
            "Trainable params: 3,691,072\n",
            "Non-trainable params: 0\n",
            "_________________________________________________________________\n"
          ],
          "name": "stdout"
        }
      ]
    },
    {
      "cell_type": "code",
      "metadata": {
        "id": "rTWPUubVCoNo",
        "colab_type": "code",
        "trusted": true,
        "colab": {
          "base_uri": "https://localhost:8080/",
          "height": 1000
        },
        "outputId": "9feca712-daab-4a1a-9eed-a13198646be5"
      },
      "source": [
        "from keras import optimizers\n",
        "adam = optimizers.Adam(lr=0.1)\n",
        "da1.compile(optimizer=adam, loss='mse')\n",
        "da1.fit(x_train_noisy, x_train,\n",
        "                epochs=50,\n",
        "                batch_size=120,\n",
        "                shuffle=True)"
      ],
      "execution_count": 28,
      "outputs": [
        {
          "output_type": "stream",
          "text": [
            "WARNING:tensorflow:From /usr/local/lib/python3.6/dist-packages/tensorflow_core/python/ops/math_grad.py:1424: where (from tensorflow.python.ops.array_ops) is deprecated and will be removed in a future version.\n",
            "Instructions for updating:\n",
            "Use tf.where in 2.0, which has the same broadcast rule as np.where\n",
            "WARNING:tensorflow:From /usr/local/lib/python3.6/dist-packages/keras/backend/tensorflow_backend.py:1033: The name tf.assign_add is deprecated. Please use tf.compat.v1.assign_add instead.\n",
            "\n",
            "WARNING:tensorflow:From /usr/local/lib/python3.6/dist-packages/keras/backend/tensorflow_backend.py:1020: The name tf.assign is deprecated. Please use tf.compat.v1.assign instead.\n",
            "\n",
            "WARNING:tensorflow:From /usr/local/lib/python3.6/dist-packages/keras/backend/tensorflow_backend.py:3005: The name tf.Session is deprecated. Please use tf.compat.v1.Session instead.\n",
            "\n",
            "Epoch 1/50\n",
            "WARNING:tensorflow:From /usr/local/lib/python3.6/dist-packages/keras/backend/tensorflow_backend.py:190: The name tf.get_default_session is deprecated. Please use tf.compat.v1.get_default_session instead.\n",
            "\n",
            "WARNING:tensorflow:From /usr/local/lib/python3.6/dist-packages/keras/backend/tensorflow_backend.py:197: The name tf.ConfigProto is deprecated. Please use tf.compat.v1.ConfigProto instead.\n",
            "\n",
            "WARNING:tensorflow:From /usr/local/lib/python3.6/dist-packages/keras/backend/tensorflow_backend.py:207: The name tf.global_variables is deprecated. Please use tf.compat.v1.global_variables instead.\n",
            "\n",
            "WARNING:tensorflow:From /usr/local/lib/python3.6/dist-packages/keras/backend/tensorflow_backend.py:216: The name tf.is_variable_initialized is deprecated. Please use tf.compat.v1.is_variable_initialized instead.\n",
            "\n",
            "WARNING:tensorflow:From /usr/local/lib/python3.6/dist-packages/keras/backend/tensorflow_backend.py:223: The name tf.variables_initializer is deprecated. Please use tf.compat.v1.variables_initializer instead.\n",
            "\n",
            "60000/60000 [==============================] - 10s 164us/step - loss: 0.7983\n",
            "Epoch 2/50\n",
            "60000/60000 [==============================] - 5s 83us/step - loss: 0.2580\n",
            "Epoch 3/50\n",
            "60000/60000 [==============================] - 5s 83us/step - loss: 0.2679\n",
            "Epoch 4/50\n",
            "60000/60000 [==============================] - 5s 83us/step - loss: 0.2774\n",
            "Epoch 5/50\n",
            "60000/60000 [==============================] - 5s 83us/step - loss: 0.3179\n",
            "Epoch 6/50\n",
            "60000/60000 [==============================] - 5s 82us/step - loss: 0.3510\n",
            "Epoch 7/50\n",
            "60000/60000 [==============================] - 5s 82us/step - loss: 0.5414\n",
            "Epoch 8/50\n",
            "60000/60000 [==============================] - 5s 83us/step - loss: 0.3548\n",
            "Epoch 9/50\n",
            "60000/60000 [==============================] - 5s 82us/step - loss: 0.4242\n",
            "Epoch 10/50\n",
            "60000/60000 [==============================] - 5s 82us/step - loss: 0.3913\n",
            "Epoch 11/50\n",
            "60000/60000 [==============================] - 5s 82us/step - loss: 0.4881\n",
            "Epoch 12/50\n",
            "60000/60000 [==============================] - 5s 83us/step - loss: 0.5248\n",
            "Epoch 13/50\n",
            "60000/60000 [==============================] - 5s 83us/step - loss: 0.7973\n",
            "Epoch 14/50\n",
            "60000/60000 [==============================] - 5s 82us/step - loss: 0.3957\n",
            "Epoch 15/50\n",
            "60000/60000 [==============================] - 5s 82us/step - loss: 0.4997\n",
            "Epoch 16/50\n",
            "60000/60000 [==============================] - 5s 82us/step - loss: 0.4963\n",
            "Epoch 17/50\n",
            "60000/60000 [==============================] - 5s 83us/step - loss: 0.6764\n",
            "Epoch 18/50\n",
            "60000/60000 [==============================] - 5s 83us/step - loss: 0.4286\n",
            "Epoch 19/50\n",
            "60000/60000 [==============================] - 5s 82us/step - loss: 0.4465\n",
            "Epoch 20/50\n",
            "60000/60000 [==============================] - 5s 82us/step - loss: 0.5869\n",
            "Epoch 21/50\n",
            "60000/60000 [==============================] - 5s 83us/step - loss: 0.5198\n",
            "Epoch 22/50\n",
            "60000/60000 [==============================] - 5s 83us/step - loss: 0.5723\n",
            "Epoch 23/50\n",
            "60000/60000 [==============================] - 5s 82us/step - loss: 0.6050\n",
            "Epoch 24/50\n",
            "60000/60000 [==============================] - 5s 83us/step - loss: 0.5028\n",
            "Epoch 25/50\n",
            "60000/60000 [==============================] - 5s 83us/step - loss: 0.5245\n",
            "Epoch 26/50\n",
            "60000/60000 [==============================] - 5s 83us/step - loss: 0.4588\n",
            "Epoch 27/50\n",
            "60000/60000 [==============================] - 5s 82us/step - loss: 0.5043\n",
            "Epoch 28/50\n",
            "60000/60000 [==============================] - 5s 82us/step - loss: 0.6011\n",
            "Epoch 29/50\n",
            "60000/60000 [==============================] - 5s 83us/step - loss: 0.5254\n",
            "Epoch 30/50\n",
            "60000/60000 [==============================] - 5s 82us/step - loss: 0.5171\n",
            "Epoch 31/50\n",
            "60000/60000 [==============================] - 5s 82us/step - loss: 0.4932\n",
            "Epoch 32/50\n",
            "60000/60000 [==============================] - 5s 82us/step - loss: 0.4368\n",
            "Epoch 33/50\n",
            "60000/60000 [==============================] - 5s 83us/step - loss: 0.5324\n",
            "Epoch 34/50\n",
            "60000/60000 [==============================] - 5s 82us/step - loss: 0.5718\n",
            "Epoch 35/50\n",
            "60000/60000 [==============================] - 5s 83us/step - loss: 0.3917\n",
            "Epoch 36/50\n",
            "60000/60000 [==============================] - 5s 83us/step - loss: 0.4657\n",
            "Epoch 37/50\n",
            "60000/60000 [==============================] - 5s 84us/step - loss: 0.5278\n",
            "Epoch 38/50\n",
            "60000/60000 [==============================] - 5s 84us/step - loss: 0.4399\n",
            "Epoch 39/50\n",
            "60000/60000 [==============================] - 5s 82us/step - loss: 0.5318\n",
            "Epoch 40/50\n",
            "60000/60000 [==============================] - 5s 82us/step - loss: 0.4662\n",
            "Epoch 41/50\n",
            "60000/60000 [==============================] - 5s 83us/step - loss: 0.5463\n",
            "Epoch 42/50\n",
            "60000/60000 [==============================] - 5s 82us/step - loss: 0.5134\n",
            "Epoch 43/50\n",
            "60000/60000 [==============================] - 5s 82us/step - loss: 0.4338\n",
            "Epoch 44/50\n",
            "60000/60000 [==============================] - 5s 83us/step - loss: 0.8721\n",
            "Epoch 45/50\n",
            "60000/60000 [==============================] - 5s 83us/step - loss: 0.4982\n",
            "Epoch 46/50\n",
            "60000/60000 [==============================] - 5s 83us/step - loss: 0.5229\n",
            "Epoch 47/50\n",
            "60000/60000 [==============================] - 5s 82us/step - loss: 0.5313\n",
            "Epoch 48/50\n",
            "60000/60000 [==============================] - 5s 82us/step - loss: 0.5219\n",
            "Epoch 49/50\n",
            "60000/60000 [==============================] - 5s 82us/step - loss: 0.5265\n",
            "Epoch 50/50\n",
            "60000/60000 [==============================] - 5s 82us/step - loss: 0.4251\n"
          ],
          "name": "stdout"
        },
        {
          "output_type": "execute_result",
          "data": {
            "text/plain": [
              "<keras.callbacks.History at 0x7fe42cc46668>"
            ]
          },
          "metadata": {
            "tags": []
          },
          "execution_count": 28
        }
      ]
    },
    {
      "cell_type": "code",
      "metadata": {
        "id": "VaixZWNcHOK7",
        "colab_type": "code",
        "trusted": true,
        "colab": {}
      },
      "source": [
        "predicted = da1.predict(x_test_noisy)"
      ],
      "execution_count": 0,
      "outputs": []
    },
    {
      "cell_type": "code",
      "metadata": {
        "trusted": true,
        "id": "NoBtOjFTxLSv",
        "colab_type": "code",
        "colab": {
          "base_uri": "https://localhost:8080/",
          "height": 252
        },
        "outputId": "30f3a679-62ae-4628-f4ff-19ad62fb68ab"
      },
      "source": [
        "plt.figure(figsize=(40, 4))\n",
        "for i in range(10):\n",
        "    # display original images\n",
        "    ax = plt.subplot(3, 20, i + 1)\n",
        "    plt.imshow(x_test[i].reshape(h, w))\n",
        "    plt.gray()\n",
        "    ax.get_xaxis().set_visible(False)\n",
        "    ax.get_yaxis().set_visible(False)\n",
        "    \n",
        "    # display noisy images\n",
        "    ax = plt.subplot(3, 20, i + 1 + 20)\n",
        "    plt.imshow(x_test_noisy[i].reshape(h, w))\n",
        "    plt.gray()\n",
        "    ax.get_xaxis().set_visible(False)\n",
        "    ax.get_yaxis().set_visible(False)\n",
        "    \n",
        "    # display reconstructed images\n",
        "    ax = plt.subplot(3, 20, 2*20 +i+ 1)\n",
        "    plt.imshow(predicted[i].reshape(h, w))\n",
        "    plt.gray()\n",
        "    ax.get_xaxis().set_visible(False)\n",
        "    ax.get_yaxis().set_visible(False)\n",
        "\n",
        "\n",
        "plt.show()"
      ],
      "execution_count": 30,
      "outputs": [
        {
          "output_type": "display_data",
          "data": {
            "image/png": "[encoded data removed]",
            "text/plain": [
              "<Figure size 2880x288 with 30 Axes>"
            ]
          },
          "metadata": {
            "tags": []
          }
        }
      ]
    },
    {
      "cell_type": "code",
      "metadata": {
        "trusted": true,
        "id": "lcc_MLB1xLS8",
        "colab_type": "code",
        "colab": {
          "base_uri": "https://localhost:8080/",
          "height": 52
        },
        "outputId": "782e955e-b98b-45ea-ebdf-5616fde98525"
      },
      "source": [
        "import pandas as pd\n",
        "\n",
        "hiddenLayerWeights = pd.DataFrame(da1.layers[1].get_weights()[0]).values\n",
        "hiddenLayerBias = pd.DataFrame(da1.layers[1].get_weights()[1]).values\n",
        "hiddenLayerWeights.shape, type(hiddenLayerWeights), hiddenLayerBias.shape, type(hiddenLayerBias)\n",
        "\n",
        "Wx = np.dot(x_train_noisy, hiddenLayerWeights)\n",
        "b =  hiddenLayerBias.T\n",
        "hX = sigmoid(Wx+b)\n",
        "\n",
        "Wy = np.dot(x_train, hiddenLayerWeights)\n",
        "hY = sigmoid(Wy + b)"
      ],
      "execution_count": 31,
      "outputs": [
        {
          "output_type": "stream",
          "text": [
            "/usr/local/lib/python3.6/dist-packages/ipykernel_launcher.py:2: RuntimeWarning: overflow encountered in exp\n",
            "  \n"
          ],
          "name": "stderr"
        }
      ]
    },
    {
      "cell_type": "code",
      "metadata": {
        "trusted": true,
        "id": "3gDT6MMTxLTB",
        "colab_type": "code",
        "colab": {
          "base_uri": "https://localhost:8080/",
          "height": 34
        },
        "outputId": "b21523b6-a364-47a1-cc4a-2c69be21e0e9"
      },
      "source": [
        "hX.shape, hY.shape"
      ],
      "execution_count": 32,
      "outputs": [
        {
          "output_type": "execute_result",
          "data": {
            "text/plain": [
              "((60000, 2352), (60000, 2352))"
            ]
          },
          "metadata": {
            "tags": []
          },
          "execution_count": 32
        }
      ]
    },
    {
      "cell_type": "code",
      "metadata": {
        "trusted": true,
        "id": "cS7AVyZ8xLTG",
        "colab_type": "code",
        "colab": {
          "base_uri": "https://localhost:8080/",
          "height": 260
        },
        "outputId": "a18e690c-8b55-4ee9-9b51-5e481799db75"
      },
      "source": [
        "input_layer2 = Input(shape=(3*784,))\n",
        "hidden_layer2 = Dense(units=3*3*784, activation='sigmoid',\n",
        "                    activity_regularizer=kl_divergence_regularizer,\n",
        "                    kernel_regularizer=keras.regularizers.l2(lambdaa)\n",
        "                    )(input_layer2)\n",
        "output_layer2 = Dense(units=3*784, activation='sigmoid',\n",
        "                    kernel_regularizer=keras.regularizers.l2(lambdaa)\n",
        "                    )(hidden_layer2)\n",
        "da2 = Model(input_layer2, output_layer2)\n",
        "da2.summary()"
      ],
      "execution_count": 33,
      "outputs": [
        {
          "output_type": "stream",
          "text": [
            "Model: \"model_3\"\n",
            "_________________________________________________________________\n",
            "Layer (type)                 Output Shape              Param #   \n",
            "=================================================================\n",
            "input_3 (InputLayer)         (None, 2352)              0         \n",
            "_________________________________________________________________\n",
            "dense_5 (Dense)              (None, 7056)              16602768  \n",
            "_________________________________________________________________\n",
            "dense_6 (Dense)              (None, 2352)              16598064  \n",
            "=================================================================\n",
            "Total params: 33,200,832\n",
            "Trainable params: 33,200,832\n",
            "Non-trainable params: 0\n",
            "_________________________________________________________________\n"
          ],
          "name": "stdout"
        }
      ]
    },
    {
      "cell_type": "code",
      "metadata": {
        "trusted": true,
        "id": "xmXFDx_jxLTN",
        "colab_type": "code",
        "colab": {
          "base_uri": "https://localhost:8080/",
          "height": 1000
        },
        "outputId": "bfba9c99-7577-4d76-aa82-a0cb2965b086"
      },
      "source": [
        "da2.compile(optimizer='adam', loss='mse')\n",
        "da2.fit(hX, hY,\n",
        "                epochs=50,\n",
        "                batch_size=120,\n",
        "                shuffle=True)"
      ],
      "execution_count": 34,
      "outputs": [
        {
          "output_type": "stream",
          "text": [
            "Epoch 1/50\n",
            "60000/60000 [==============================] - 33s 544us/step - loss: 10.5435\n",
            "Epoch 2/50\n",
            "60000/60000 [==============================] - 32s 535us/step - loss: 1.6222\n",
            "Epoch 3/50\n",
            "60000/60000 [==============================] - 32s 531us/step - loss: 0.4887\n",
            "Epoch 4/50\n",
            "60000/60000 [==============================] - 32s 531us/step - loss: 0.2556\n",
            "Epoch 5/50\n",
            "60000/60000 [==============================] - 32s 531us/step - loss: 0.2023\n",
            "Epoch 6/50\n",
            "60000/60000 [==============================] - 32s 530us/step - loss: 0.1905\n",
            "Epoch 7/50\n",
            "60000/60000 [==============================] - 32s 531us/step - loss: 0.1803\n",
            "Epoch 8/50\n",
            "60000/60000 [==============================] - 32s 532us/step - loss: 0.1679\n",
            "Epoch 9/50\n",
            "60000/60000 [==============================] - 32s 531us/step - loss: 0.1563\n",
            "Epoch 10/50\n",
            "60000/60000 [==============================] - 32s 530us/step - loss: 0.1440\n",
            "Epoch 11/50\n",
            "60000/60000 [==============================] - 32s 531us/step - loss: 0.1288\n",
            "Epoch 12/50\n",
            "60000/60000 [==============================] - 32s 531us/step - loss: 0.1165\n",
            "Epoch 13/50\n",
            "60000/60000 [==============================] - 32s 532us/step - loss: 0.1050\n",
            "Epoch 14/50\n",
            "60000/60000 [==============================] - 32s 530us/step - loss: 0.0911\n",
            "Epoch 15/50\n",
            "60000/60000 [==============================] - 32s 531us/step - loss: 0.0828\n",
            "Epoch 16/50\n",
            "60000/60000 [==============================] - 32s 530us/step - loss: 0.0733\n",
            "Epoch 17/50\n",
            "60000/60000 [==============================] - 32s 531us/step - loss: 0.0651\n",
            "Epoch 18/50\n",
            "60000/60000 [==============================] - 32s 530us/step - loss: 0.0565\n",
            "Epoch 19/50\n",
            "60000/60000 [==============================] - 32s 531us/step - loss: 0.0506\n",
            "Epoch 20/50\n",
            "60000/60000 [==============================] - 32s 530us/step - loss: 0.0442\n",
            "Epoch 21/50\n",
            "60000/60000 [==============================] - 32s 532us/step - loss: 0.0389\n",
            "Epoch 22/50\n",
            "60000/60000 [==============================] - 32s 530us/step - loss: 0.0341\n",
            "Epoch 23/50\n",
            "60000/60000 [==============================] - 32s 530us/step - loss: 0.0304\n",
            "Epoch 24/50\n",
            "60000/60000 [==============================] - 32s 531us/step - loss: 0.0269\n",
            "Epoch 25/50\n",
            "60000/60000 [==============================] - 32s 533us/step - loss: 0.0243\n",
            "Epoch 26/50\n",
            "60000/60000 [==============================] - 32s 530us/step - loss: 0.0217\n",
            "Epoch 27/50\n",
            "60000/60000 [==============================] - 32s 532us/step - loss: 0.0198\n",
            "Epoch 28/50\n",
            "60000/60000 [==============================] - 32s 529us/step - loss: 0.0182\n",
            "Epoch 29/50\n",
            "60000/60000 [==============================] - 32s 531us/step - loss: 0.0168\n",
            "Epoch 30/50\n",
            "60000/60000 [==============================] - 32s 531us/step - loss: 0.0155\n",
            "Epoch 31/50\n",
            "60000/60000 [==============================] - 32s 531us/step - loss: 0.0148\n",
            "Epoch 32/50\n",
            "60000/60000 [==============================] - 32s 530us/step - loss: 0.0140\n",
            "Epoch 33/50\n",
            "60000/60000 [==============================] - 32s 531us/step - loss: 0.0134\n",
            "Epoch 34/50\n",
            "60000/60000 [==============================] - 32s 530us/step - loss: 0.0133\n",
            "Epoch 35/50\n",
            "60000/60000 [==============================] - 32s 530us/step - loss: 0.0129\n",
            "Epoch 36/50\n",
            "60000/60000 [==============================] - 32s 531us/step - loss: 0.0126\n",
            "Epoch 37/50\n",
            "60000/60000 [==============================] - 32s 533us/step - loss: 0.0123\n",
            "Epoch 38/50\n",
            "60000/60000 [==============================] - 32s 532us/step - loss: 0.0124\n",
            "Epoch 39/50\n",
            "60000/60000 [==============================] - 32s 531us/step - loss: 0.0122\n",
            "Epoch 40/50\n",
            "60000/60000 [==============================] - 32s 532us/step - loss: 0.0120\n",
            "Epoch 41/50\n",
            "60000/60000 [==============================] - 32s 532us/step - loss: 0.0121\n",
            "Epoch 42/50\n",
            "60000/60000 [==============================] - 32s 530us/step - loss: 0.0120\n",
            "Epoch 43/50\n",
            "60000/60000 [==============================] - 32s 531us/step - loss: 0.0119\n",
            "Epoch 44/50\n",
            "60000/60000 [==============================] - 32s 532us/step - loss: 0.0119\n",
            "Epoch 45/50\n",
            "60000/60000 [==============================] - 32s 532us/step - loss: 0.0119\n",
            "Epoch 46/50\n",
            "60000/60000 [==============================] - 32s 532us/step - loss: 0.0119\n",
            "Epoch 47/50\n",
            "60000/60000 [==============================] - 32s 534us/step - loss: 0.0120\n",
            "Epoch 48/50\n",
            "60000/60000 [==============================] - 32s 533us/step - loss: 0.0118\n",
            "Epoch 49/50\n",
            "60000/60000 [==============================] - 32s 531us/step - loss: 0.0121\n",
            "Epoch 50/50\n",
            "60000/60000 [==============================] - 32s 530us/step - loss: 0.0117\n"
          ],
          "name": "stdout"
        },
        {
          "output_type": "execute_result",
          "data": {
            "text/plain": [
              "<keras.callbacks.History at 0x7fe42cc463c8>"
            ]
          },
          "metadata": {
            "tags": []
          },
          "execution_count": 34
        }
      ]
    },
    {
      "cell_type": "code",
      "metadata": {
        "trusted": true,
        "id": "3hxZMlUtxLTU",
        "colab_type": "code",
        "colab": {}
      },
      "source": [
        "# Extract weights\n",
        "W1, B1 = da1.layers[1].get_weights()\n",
        "W1_dash, B1_dash = da1.layers[2].get_weights()\n",
        "\n",
        "W2, B2 = da2.layers[1].get_weights()\n",
        "W2_dash, B2_dash = da2.layers[2].get_weights()\n"
      ],
      "execution_count": 0,
      "outputs": []
    },
    {
      "cell_type": "code",
      "metadata": {
        "trusted": true,
        "id": "KgDIkqQ0xLTa",
        "colab_type": "code",
        "colab": {
          "base_uri": "https://localhost:8080/",
          "height": 34
        },
        "outputId": "c9f0afd1-94c6-426e-8543-c1d7d8722b49"
      },
      "source": [
        "W1.shape, W2.shape, W2_dash.shape, W1_dash.shape\n",
        "# B1.shape, B2.shape, B2_dash.shape, B1_dash.shape\n",
        "# len(B1), len(B2), len(B2_dash), len(B1_dash)"
      ],
      "execution_count": 36,
      "outputs": [
        {
          "output_type": "execute_result",
          "data": {
            "text/plain": [
              "((784, 2352), (2352, 7056), (7056, 2352), (2352, 784))"
            ]
          },
          "metadata": {
            "tags": []
          },
          "execution_count": 36
        }
      ]
    },
    {
      "cell_type": "code",
      "metadata": {
        "trusted": true,
        "id": "aKoJnwwjxLTk",
        "colab_type": "code",
        "colab": {
          "base_uri": "https://localhost:8080/",
          "height": 330
        },
        "outputId": "7b908ed1-52d8-4621-9a2a-0b1e02977975"
      },
      "source": [
        "input_layer = Input(shape=(W1.shape[0],))\n",
        "h1 = Dense(units=W1.shape[1], activation='sigmoid', \n",
        "                    kernel_regularizer=keras.regularizers.l2(lambdaa)\n",
        "                    )(input_layer)\n",
        "h2 = Dense(units=W2.shape[1], activation='sigmoid', \n",
        "                    kernel_regularizer=keras.regularizers.l2(lambdaa)\n",
        "                    )(h1)\n",
        "h3 = Dense(units=W2_dash.shape[1], activation='sigmoid', \n",
        "                    kernel_regularizer=keras.regularizers.l2(lambdaa)\n",
        "                    )(h2)\n",
        "output_layer = Dense(units=W1_dash.shape[1], activation='sigmoid',\n",
        "                    kernel_regularizer=keras.regularizers.l2(lambdaa)\n",
        "                    )(h3)\n",
        "\n",
        "dnn = Model(input_layer, output_layer)\n",
        "\n",
        "# Initialize with pretrained weights\n",
        "B1 = np.random.uniform(0,1,B1.shape)\n",
        "B2 = np.random.uniform(0,1,B2.shape)\n",
        "B1_dash = np.random.uniform(0,1,B1_dash.shape)\n",
        "B2_dash = np.random.uniform(0,1,B2_dash.shape)\n",
        "\n",
        "dnn.layers[1].set_weights([W1, B1])\n",
        "dnn.layers[2].set_weights([W2, B2])\n",
        "dnn.layers[3].set_weights([W2_dash, B2_dash])\n",
        "dnn.layers[4].set_weights([W1_dash, B1_dash])\n",
        "\n",
        "dnn.summary()"
      ],
      "execution_count": 37,
      "outputs": [
        {
          "output_type": "stream",
          "text": [
            "Model: \"model_4\"\n",
            "_________________________________________________________________\n",
            "Layer (type)                 Output Shape              Param #   \n",
            "=================================================================\n",
            "input_4 (InputLayer)         (None, 784)               0         \n",
            "_________________________________________________________________\n",
            "dense_7 (Dense)              (None, 2352)              1846320   \n",
            "_________________________________________________________________\n",
            "dense_8 (Dense)              (None, 7056)              16602768  \n",
            "_________________________________________________________________\n",
            "dense_9 (Dense)              (None, 2352)              16598064  \n",
            "_________________________________________________________________\n",
            "dense_10 (Dense)             (None, 784)               1844752   \n",
            "=================================================================\n",
            "Total params: 36,891,904\n",
            "Trainable params: 36,891,904\n",
            "Non-trainable params: 0\n",
            "_________________________________________________________________\n"
          ],
          "name": "stdout"
        }
      ]
    },
    {
      "cell_type": "code",
      "metadata": {
        "trusted": true,
        "id": "mK-iQZ-sxLTr",
        "colab_type": "code",
        "colab": {}
      },
      "source": [
        "# x_sample = x_train[0].reshape(28, 28)\n",
        "# plt.imshow(x_sample, interpolation='nearest')\n",
        "# plt.show()"
      ],
      "execution_count": 0,
      "outputs": []
    },
    {
      "cell_type": "code",
      "metadata": {
        "trusted": true,
        "id": "7op-3od7xLTw",
        "colab_type": "code",
        "colab": {
          "base_uri": "https://localhost:8080/",
          "height": 1000
        },
        "outputId": "8763e99c-76a4-406d-e385-b9f2d1779675"
      },
      "source": [
        "dnn.compile('adam', loss='mse')\n",
        "dnn.fit(x_train_noisy, x_train,\n",
        "                epochs=50,\n",
        "                batch_size=120,\n",
        "                shuffle=True)"
      ],
      "execution_count": 39,
      "outputs": [
        {
          "output_type": "stream",
          "text": [
            "Epoch 1/50\n",
            "60000/60000 [==============================] - 37s 621us/step - loss: 0.1675\n",
            "Epoch 2/50\n",
            "60000/60000 [==============================] - 36s 607us/step - loss: 0.0641\n",
            "Epoch 3/50\n",
            "60000/60000 [==============================] - 36s 608us/step - loss: 0.0409\n",
            "Epoch 4/50\n",
            "60000/60000 [==============================] - 36s 607us/step - loss: 0.0322\n",
            "Epoch 5/50\n",
            "60000/60000 [==============================] - 36s 607us/step - loss: 0.0273\n",
            "Epoch 6/50\n",
            "60000/60000 [==============================] - 36s 607us/step - loss: 0.0246\n",
            "Epoch 7/50\n",
            "60000/60000 [==============================] - 36s 607us/step - loss: 0.0231\n",
            "Epoch 8/50\n",
            "60000/60000 [==============================] - 36s 606us/step - loss: 0.0221\n",
            "Epoch 9/50\n",
            "60000/60000 [==============================] - 36s 607us/step - loss: 0.0214\n",
            "Epoch 10/50\n",
            "60000/60000 [==============================] - 36s 606us/step - loss: 0.0209\n",
            "Epoch 11/50\n",
            "60000/60000 [==============================] - 36s 607us/step - loss: 0.0205\n",
            "Epoch 12/50\n",
            "60000/60000 [==============================] - 36s 606us/step - loss: 0.0202\n",
            "Epoch 13/50\n",
            "60000/60000 [==============================] - 36s 607us/step - loss: 0.0199\n",
            "Epoch 14/50\n",
            "60000/60000 [==============================] - 36s 608us/step - loss: 0.0198\n",
            "Epoch 15/50\n",
            "60000/60000 [==============================] - 36s 606us/step - loss: 0.0196\n",
            "Epoch 16/50\n",
            "60000/60000 [==============================] - 36s 606us/step - loss: 0.0194\n",
            "Epoch 17/50\n",
            "60000/60000 [==============================] - 37s 609us/step - loss: 0.0193\n",
            "Epoch 18/50\n",
            "60000/60000 [==============================] - 36s 607us/step - loss: 0.0192\n",
            "Epoch 19/50\n",
            "60000/60000 [==============================] - 36s 606us/step - loss: 0.0191\n",
            "Epoch 20/50\n",
            "60000/60000 [==============================] - 36s 606us/step - loss: 0.0191\n",
            "Epoch 21/50\n",
            "60000/60000 [==============================] - 36s 608us/step - loss: 0.0190\n",
            "Epoch 22/50\n",
            "60000/60000 [==============================] - 36s 607us/step - loss: 0.0189\n",
            "Epoch 23/50\n",
            "60000/60000 [==============================] - 36s 608us/step - loss: 0.0189\n",
            "Epoch 24/50\n",
            "60000/60000 [==============================] - 36s 607us/step - loss: 0.0188\n",
            "Epoch 25/50\n",
            "60000/60000 [==============================] - 36s 607us/step - loss: 0.0188\n",
            "Epoch 26/50\n",
            "60000/60000 [==============================] - 36s 607us/step - loss: 0.0188\n",
            "Epoch 27/50\n",
            "60000/60000 [==============================] - 37s 609us/step - loss: 0.0187\n",
            "Epoch 28/50\n",
            "60000/60000 [==============================] - 36s 607us/step - loss: 0.0187\n",
            "Epoch 29/50\n",
            "60000/60000 [==============================] - 36s 606us/step - loss: 0.0187\n",
            "Epoch 30/50\n",
            "60000/60000 [==============================] - 36s 607us/step - loss: 0.0187\n",
            "Epoch 31/50\n",
            "60000/60000 [==============================] - 37s 609us/step - loss: 0.0187\n",
            "Epoch 32/50\n",
            "60000/60000 [==============================] - 36s 607us/step - loss: 0.0186\n",
            "Epoch 33/50\n",
            "60000/60000 [==============================] - 36s 606us/step - loss: 0.0186\n",
            "Epoch 34/50\n",
            "60000/60000 [==============================] - 36s 607us/step - loss: 0.0186\n",
            "Epoch 35/50\n",
            "60000/60000 [==============================] - 36s 606us/step - loss: 0.0186\n",
            "Epoch 36/50\n",
            "60000/60000 [==============================] - 36s 607us/step - loss: 0.0186\n",
            "Epoch 37/50\n",
            "60000/60000 [==============================] - 36s 606us/step - loss: 0.0185\n",
            "Epoch 38/50\n",
            "60000/60000 [==============================] - 36s 607us/step - loss: 0.0186\n",
            "Epoch 39/50\n",
            "60000/60000 [==============================] - 36s 607us/step - loss: 0.0185\n",
            "Epoch 40/50\n",
            "60000/60000 [==============================] - 36s 606us/step - loss: 0.0185\n",
            "Epoch 41/50\n",
            "60000/60000 [==============================] - 36s 607us/step - loss: 0.0185\n",
            "Epoch 42/50\n",
            "60000/60000 [==============================] - 36s 606us/step - loss: 0.0185\n",
            "Epoch 43/50\n",
            "60000/60000 [==============================] - 36s 605us/step - loss: 0.0185\n",
            "Epoch 44/50\n",
            "60000/60000 [==============================] - 36s 607us/step - loss: 0.0184\n",
            "Epoch 45/50\n",
            "60000/60000 [==============================] - 36s 607us/step - loss: 0.0184\n",
            "Epoch 46/50\n",
            "60000/60000 [==============================] - 36s 607us/step - loss: 0.0184\n",
            "Epoch 47/50\n",
            "60000/60000 [==============================] - 36s 606us/step - loss: 0.0184\n",
            "Epoch 48/50\n",
            "60000/60000 [==============================] - 36s 607us/step - loss: 0.0184\n",
            "Epoch 49/50\n",
            "60000/60000 [==============================] - 36s 607us/step - loss: 0.0184\n",
            "Epoch 50/50\n",
            "60000/60000 [==============================] - 36s 607us/step - loss: 0.0184\n"
          ],
          "name": "stdout"
        },
        {
          "output_type": "execute_result",
          "data": {
            "text/plain": [
              "<keras.callbacks.History at 0x7fe42cba6208>"
            ]
          },
          "metadata": {
            "tags": []
          },
          "execution_count": 39
        }
      ]
    },
    {
      "cell_type": "code",
      "metadata": {
        "trusted": true,
        "id": "pRJco6CyxLT3",
        "colab_type": "code",
        "colab": {}
      },
      "source": [
        "predicted2 = dnn.predict(x_test_noisy)"
      ],
      "execution_count": 0,
      "outputs": []
    },
    {
      "cell_type": "code",
      "metadata": {
        "id": "rpT4sS2tHgdF",
        "colab_type": "code",
        "trusted": true,
        "colab": {
          "base_uri": "https://localhost:8080/",
          "height": 252
        },
        "outputId": "c95c6bfb-6e99-4520-9e51-a26347f874a8"
      },
      "source": [
        "plt.figure(figsize=(40, 4))\n",
        "for i in range(10):\n",
        "    # display original images\n",
        "    ax = plt.subplot(3, 20, i + 1)\n",
        "    plt.imshow(x_test[i].reshape(h, w))\n",
        "    plt.gray()\n",
        "    ax.get_xaxis().set_visible(False)\n",
        "    ax.get_yaxis().set_visible(False)\n",
        "    \n",
        "    # display noisy images\n",
        "    ax = plt.subplot(3, 20, i + 1 + 20)\n",
        "    plt.imshow(x_test_noisy[i].reshape(h, w))\n",
        "    plt.gray()\n",
        "    ax.get_xaxis().set_visible(False)\n",
        "    ax.get_yaxis().set_visible(False)\n",
        "    \n",
        "    # display reconstructed images\n",
        "    ax = plt.subplot(3, 20, 2 * 20 + i + 1)\n",
        "    plt.imshow(predicted2[i].reshape(h, w))\n",
        "    plt.gray()\n",
        "    ax.get_xaxis().set_visible(False)\n",
        "    ax.get_yaxis().set_visible(False)\n",
        "  \n",
        "    \n",
        "plt.show()"
      ],
      "execution_count": 41,
      "outputs": [
        {
          "output_type": "display_data",
          "data": {
            "image/png": "[encoded data removed]",
            "text/plain": [
              "<Figure size 2880x288 with 30 Axes>"
            ]
          },
          "metadata": {
            "tags": []
          }
        }
      ]
    }
  ]
}