{
 "cells": [
  {
   "cell_type": "markdown",
   "metadata": {
    "colab_type": "text",
    "id": "view-in-github"
   },
   "source": [
    "<a href=\"https://colab.research.google.com/github/abnvanand/ImageInpainting/blob/dev/DenoisingAutoencoder(18).ipynb\" target=\"_parent\"><img src=\"https://colab.research.google.com/assets/colab-badge.svg\" alt=\"Open In Colab\"/></a>"
   ]
  },
  {
   "cell_type": "code",
   "execution_count": 0,
   "metadata": {
    "colab": {},
    "colab_type": "code",
    "id": "KHgph2DC2wL_"
   },
   "outputs": [],
   "source": [
    "import keras\n",
    "from keras.datasets import mnist\n",
    "import numpy as np\n",
    "from keras.models import Sequential\n",
    "from keras.models import Model\n",
    "from keras.layers import Dense, InputLayer, Input\n",
    "import matplotlib.pyplot as plt"
   ]
  },
  {
   "cell_type": "code",
   "execution_count": 0,
   "metadata": {
    "colab": {},
    "colab_type": "code",
    "id": "ajxxjoFg25rP"
   },
   "outputs": [],
   "source": [
    "# data set of dim 28x28 greyscale images\n",
    "(x_train, _), (x_test, _) = mnist.load_data()\n",
    "\n",
    "# original dimensions of train & test datasets\n",
    "x_train.shape, x_test.shape"
   ]
  },
  {
   "cell_type": "code",
   "execution_count": 0,
   "metadata": {
    "colab": {},
    "colab_type": "code",
    "id": "rme7ZtzQ7KKe"
   },
   "outputs": [],
   "source": [
    "# normalize to range [0,1]\n",
    "x_train = x_train.astype('float32') / 255.\n",
    "x_test = x_test.astype('float32') / 255.\n",
    "\n",
    "# Reshape to include channel in dimension\n",
    "# TODO: change channel to 3 when using RGB images\n",
    "x_train = np.reshape(x_train, (len(x_train), 28, 28, 1))  # by default uses `channels_last` image data format\n",
    "x_test = np.reshape(x_test, (len(x_test), 28, 28, 1))\n",
    "\n",
    "# Dimensions after including channel info\n",
    "x_train.shape, x_test.shape"
   ]
  },
  {
   "cell_type": "code",
   "execution_count": 0,
   "metadata": {
    "colab": {},
    "colab_type": "code",
    "id": "xqHXHIXZxLRr"
   },
   "outputs": [],
   "source": [
    "def add_noise(data, noise_factor = 0.5):\n",
    "    # add noise\n",
    "    res = data + noise_factor * np.random.normal(loc=0.0, scale=1.0, size=data.shape) \n",
    "\n",
    "    # clip to range\n",
    "    res = np.clip(res, 0., 1.)\n",
    "    return res\n",
    "\n",
    "x_train_noisy = add_noise(x_train)\n",
    "x_test_noisy = add_noise(x_test)"
   ]
  },
  {
   "cell_type": "code",
   "execution_count": 0,
   "metadata": {
    "colab": {},
    "colab_type": "code",
    "id": "B6cUiSqPxLR1"
   },
   "outputs": [],
   "source": [
    "def sigmoid(x, derivative=False):\n",
    "    sigm = 1. / (1. + np.exp(-x))\n",
    "    if derivative:\n",
    "        return sigm * (1. - sigm)\n",
    "    return sigm"
   ]
  },
  {
   "cell_type": "code",
   "execution_count": 0,
   "metadata": {
    "colab": {},
    "colab_type": "code",
    "id": "xWHk_XaAxLR9"
   },
   "outputs": [],
   "source": [
    "# KL Divergence regularizer for hidden unit activations\n",
    "import keras # if using keras\n",
    "import tensorflow as tf\n",
    "# from tensorflow import keras # if using tf.keras\n",
    "kullback_leibler_divergence = keras.losses.kullback_leibler_divergence\n",
    "K = keras.backend\n",
    "\n",
    "def kl_divergence_regularizer(activations):\n",
    "    rho_hat = K.mean(activations, axis=0)\n",
    "    nprho = np.full((rho_hat.get_shape().as_list()[0],) ,0.05)\n",
    "    rho = tf.convert_to_tensor(nprho, dtype=tf.float32)\n",
    "    return 0.01 * (kullback_leibler_divergence(rho, rho_hat)\n",
    "                 + kullback_leibler_divergence(1 - rho, 1 - rho_hat))"
   ]
  },
  {
   "cell_type": "code",
   "execution_count": 0,
   "metadata": {
    "colab": {},
    "colab_type": "code",
    "id": "m_Ik7X9b3414"
   },
   "outputs": [],
   "source": [
    "x_train.shape, x_train_noisy.shape, x_test.shape, x_test_noisy.shape"
   ]
  },
  {
   "cell_type": "code",
   "execution_count": 0,
   "metadata": {
    "colab": {},
    "colab_type": "code",
    "id": "rMS-xWKM96Af"
   },
   "outputs": [],
   "source": [
    "# reshape(flatten) so that we can pass to neural network\n",
    "x_train = x_train.reshape(len(x_train), np.prod(x_train.shape[1:]))\n",
    "x_train_noisy = x_train_noisy.reshape(len(x_train_noisy), np.prod(x_train_noisy.shape[1:]))\n",
    "\n",
    "x_test = x_test.reshape(len(x_test), np.prod(x_test.shape[1:]))\n",
    "x_test_noisy = x_test_noisy.reshape(len(x_test_noisy), np.prod(x_test_noisy.shape[1:]))\n",
    "\n",
    "# shape after flattening\n",
    "x_train.shape, x_train_noisy.shape, x_test.shape, x_test_noisy.shape"
   ]
  },
  {
   "cell_type": "code",
   "execution_count": 0,
   "metadata": {
    "colab": {},
    "colab_type": "code",
    "id": "tKygyuHY3KxL"
   },
   "outputs": [],
   "source": [
    "# print first 10 test images\n",
    "n = 10\n",
    "plt.figure(figsize=(20, 3))\n",
    "for i in range(n):\n",
    "    ax = plt.subplot(2, n, i+1)\n",
    "    plt.imshow(x_test[i].reshape(28, 28))\n",
    "    plt.gray()\n",
    "    ax.get_xaxis().set_visible(False)\n",
    "    ax.get_yaxis().set_visible(False)\n",
    "\n",
    "    ax = plt.subplot(2, n, i+1+10)\n",
    "    plt.imshow(x_test_noisy[i].reshape(28, 28))\n",
    "    plt.gray()\n",
    "    ax.get_xaxis().set_visible(False)\n",
    "    ax.get_yaxis().set_visible(False)\n",
    "    \n",
    "\n",
    "plt.show()"
   ]
  },
  {
   "cell_type": "code",
   "execution_count": 0,
   "metadata": {
    "colab": {},
    "colab_type": "code",
    "id": "kBaOAjy8BmjV"
   },
   "outputs": [],
   "source": [
    "lambdaa = 0.0001\n",
    "input_layer = Input(shape=(784,))\n",
    "hidden_layer = Dense(units=392, activation='sigmoid', \n",
    "#                     activity_regularizer=kl_divergence_regularizer,\n",
    "                    kernel_regularizer=keras.regularizers.l2(lambdaa))(input_layer)\n",
    "output_layer = Dense(units=784, activation='sigmoid',\n",
    "                    kernel_regularizer=keras.regularizers.l2(lambdaa))(hidden_layer)\n",
    "da1 = Model(input_layer, output_layer)\n",
    "da1.summary()"
   ]
  },
  {
   "cell_type": "code",
   "execution_count": 0,
   "metadata": {
    "colab": {},
    "colab_type": "code",
    "id": "rTWPUubVCoNo"
   },
   "outputs": [],
   "source": [
    "da1.compile('adam', loss='mse')\n",
    "da1.fit(x_train_noisy, x_train,\n",
    "                epochs=50,\n",
    "                batch_size=128,\n",
    "                shuffle=True)"
   ]
  },
  {
   "cell_type": "code",
   "execution_count": 0,
   "metadata": {
    "colab": {},
    "colab_type": "code",
    "id": "VaixZWNcHOK7"
   },
   "outputs": [],
   "source": [
    "predicted = da1.predict(x_test_noisy)"
   ]
  },
  {
   "cell_type": "code",
   "execution_count": 0,
   "metadata": {
    "colab": {},
    "colab_type": "code",
    "id": "NoBtOjFTxLSv"
   },
   "outputs": [],
   "source": [
    "plt.figure(figsize=(40, 4))\n",
    "for i in range(10):\n",
    "    # display original images\n",
    "    ax = plt.subplot(3, 20, i + 1)\n",
    "    plt.imshow(x_test[i].reshape(28, 28))\n",
    "    plt.gray()\n",
    "    ax.get_xaxis().set_visible(False)\n",
    "    ax.get_yaxis().set_visible(False)\n",
    "    \n",
    "    # display noisy images\n",
    "    ax = plt.subplot(3, 20, i + 1 + 20)\n",
    "    plt.imshow(x_test_noisy[i].reshape(28,28))\n",
    "    plt.gray()\n",
    "    ax.get_xaxis().set_visible(False)\n",
    "    ax.get_yaxis().set_visible(False)\n",
    "    \n",
    "    # display reconstructed images\n",
    "    ax = plt.subplot(3, 20, 2*20 +i+ 1)\n",
    "    plt.imshow(predicted[i].reshape(28, 28))\n",
    "    plt.gray()\n",
    "    ax.get_xaxis().set_visible(False)\n",
    "    ax.get_yaxis().set_visible(False)\n",
    "\n",
    "\n",
    "plt.show()"
   ]
  },
  {
   "cell_type": "code",
   "execution_count": 0,
   "metadata": {
    "colab": {},
    "colab_type": "code",
    "id": "c5OGy3PhxLS0"
   },
   "outputs": [],
   "source": []
  },
  {
   "cell_type": "code",
   "execution_count": 0,
   "metadata": {
    "colab": {},
    "colab_type": "code",
    "id": "lcc_MLB1xLS8"
   },
   "outputs": [],
   "source": [
    "import pandas as pd\n",
    "\n",
    "hiddenLayerWeights = pd.DataFrame(da1.layers[1].get_weights()[0]).values\n",
    "hiddenLayerBias = pd.DataFrame(da1.layers[1].get_weights()[1]).values\n",
    "hiddenLayerWeights.shape, type(hiddenLayerWeights), hiddenLayerBias.shape, type(hiddenLayerBias)\n",
    "\n",
    "Wx = np.dot(x_train_noisy, hiddenLayerWeights)\n",
    "b =  hiddenLayerBias.T\n",
    "hX = sigmoid(Wx+b)\n",
    "\n",
    "Wy = np.dot(x_train, hiddenLayerWeights)\n",
    "hY = sigmoid(Wy + b)"
   ]
  },
  {
   "cell_type": "code",
   "execution_count": 0,
   "metadata": {
    "colab": {},
    "colab_type": "code",
    "id": "3gDT6MMTxLTB"
   },
   "outputs": [],
   "source": [
    "hX.shape, hY.shape"
   ]
  },
  {
   "cell_type": "code",
   "execution_count": 0,
   "metadata": {
    "colab": {},
    "colab_type": "code",
    "id": "cS7AVyZ8xLTG"
   },
   "outputs": [],
   "source": [
    "input_layer2 = Input(shape=(392,))\n",
    "hidden_layer2 = Dense(units=300, activation='sigmoid',\n",
    "                    activity_regularizer=kl_divergence_regularizer,\n",
    "                    kernel_regularizer=keras.regularizers.l2(lambdaa))(input_layer2)\n",
    "output_layer2 = Dense(units=392, activation='sigmoid',\n",
    "                    kernel_regularizer=keras.regularizers.l2(lambdaa))(hidden_layer2)\n",
    "da2 = Model(input_layer2, output_layer2)\n",
    "da2.summary()"
   ]
  },
  {
   "cell_type": "code",
   "execution_count": 0,
   "metadata": {
    "colab": {},
    "colab_type": "code",
    "id": "xmXFDx_jxLTN"
   },
   "outputs": [],
   "source": [
    "da2.compile(optimizer='adam', loss='mse')\n",
    "da2.fit(hX, hY,\n",
    "                epochs=50,\n",
    "                batch_size=128,\n",
    "                shuffle=True)"
   ]
  },
  {
   "cell_type": "code",
   "execution_count": 0,
   "metadata": {
    "colab": {},
    "colab_type": "code",
    "id": "3hxZMlUtxLTU"
   },
   "outputs": [],
   "source": [
    "# Extract weights\n",
    "W1, B1 = da1.layers[1].get_weights()\n",
    "W1_dash, B1_dash = da1.layers[2].get_weights()\n",
    "\n",
    "W2, B2 = da2.layers[1].get_weights()\n",
    "W2_dash, B2_dash = da2.layers[2].get_weights()\n"
   ]
  },
  {
   "cell_type": "code",
   "execution_count": 0,
   "metadata": {
    "colab": {},
    "colab_type": "code",
    "id": "KgDIkqQ0xLTa"
   },
   "outputs": [],
   "source": [
    "W1.shape, W2.shape, W2_dash.shape, W1_dash.shape\n",
    "# B1.shape, B2.shape, B2_dash.shape, B1_dash.shape"
   ]
  },
  {
   "cell_type": "code",
   "execution_count": 0,
   "metadata": {
    "colab": {},
    "colab_type": "code",
    "id": "897a3uEvxLTf"
   },
   "outputs": [],
   "source": [
    "W1_dash.shape[1]"
   ]
  },
  {
   "cell_type": "code",
   "execution_count": 0,
   "metadata": {
    "colab": {},
    "colab_type": "code",
    "id": "aKoJnwwjxLTk"
   },
   "outputs": [],
   "source": [
    "lambdaa = 0.0001\n",
    "input_layer = Input(shape=(W1.shape[0],))\n",
    "h1 = Dense(units=W1.shape[1], activation='sigmoid', \n",
    "                    kernel_regularizer=keras.regularizers.l2(lambdaa))(input_layer)\n",
    "h2 = Dense(units=W2.shape[1], activation='sigmoid', \n",
    "                    kernel_regularizer=keras.regularizers.l2(lambdaa))(h1)\n",
    "h3 = Dense(units=W2_dash.shape[1], activation='sigmoid', \n",
    "                    kernel_regularizer=keras.regularizers.l2(lambdaa))(h2)\n",
    "output_layer = Dense(units=W1_dash.shape[1], activation='sigmoid',\n",
    "                    kernel_regularizer=keras.regularizers.l2(lambdaa))(h3)\n",
    "\n",
    "dnn = Model(input_layer, output_layer)\n",
    "\n",
    "# Initialize with pretrained weights\n",
    "# dnn.layers[1].set_weights([W1, B1])\n",
    "# dnn.layers[2].set_weights([W2, B2])\n",
    "# dnn.layers[3].set_weights([W2_dash, B2_dash])\n",
    "# dnn.layers[4].set_weights([W1_dash, B1_dash])\n",
    "\n",
    "dnn.summary()"
   ]
  },
  {
   "cell_type": "code",
   "execution_count": 0,
   "metadata": {
    "colab": {},
    "colab_type": "code",
    "id": "mK-iQZ-sxLTr"
   },
   "outputs": [],
   "source": [
    "# x_sample = x_train[0].reshape(28, 28)\n",
    "# plt.imshow(x_sample, interpolation='nearest')\n",
    "# plt.show()"
   ]
  },
  {
   "cell_type": "code",
   "execution_count": 0,
   "metadata": {
    "colab": {},
    "colab_type": "code",
    "id": "7op-3od7xLTw"
   },
   "outputs": [],
   "source": [
    "dnn.compile('adam', loss='mse')\n",
    "dnn.fit(x_train, x_train,\n",
    "                epochs=50,\n",
    "                batch_size=50,\n",
    "                shuffle=True)"
   ]
  },
  {
   "cell_type": "code",
   "execution_count": 0,
   "metadata": {
    "colab": {},
    "colab_type": "code",
    "id": "pRJco6CyxLT3"
   },
   "outputs": [],
   "source": [
    "predicted2 = dnn.predict(x_train)"
   ]
  },
  {
   "cell_type": "code",
   "execution_count": 0,
   "metadata": {
    "colab": {},
    "colab_type": "code",
    "id": "rpT4sS2tHgdF"
   },
   "outputs": [],
   "source": [
    "plt.figure(figsize=(40, 4))\n",
    "for i in range(10):\n",
    "    # display original images\n",
    "    ax = plt.subplot(3, 20, i + 1)\n",
    "    plt.imshow(x_test[i].reshape(28, 28))\n",
    "    plt.gray()\n",
    "    ax.get_xaxis().set_visible(False)\n",
    "    ax.get_yaxis().set_visible(False)\n",
    "    \n",
    "    # display noisy images\n",
    "    ax = plt.subplot(3, 20, i + 1 + 20)\n",
    "    plt.imshow(x_test_noisy[i].reshape(28,28))\n",
    "    plt.gray()\n",
    "    ax.get_xaxis().set_visible(False)\n",
    "    ax.get_yaxis().set_visible(False)\n",
    "    \n",
    "    # display reconstructed images\n",
    "    ax = plt.subplot(3, 20, 2 * 20 + i + 1)\n",
    "    plt.imshow(x_train_noisy[i].reshape(28, 28))\n",
    "    plt.gray()\n",
    "    ax.get_xaxis().set_visible(False)\n",
    "    ax.get_yaxis().set_visible(False)\n",
    "  \n",
    "    \n",
    "plt.show()"
   ]
  },
  {
   "cell_type": "code",
   "execution_count": 0,
   "metadata": {
    "colab": {},
    "colab_type": "code",
    "id": "GfGe-OLExLUB"
   },
   "outputs": [],
   "source": [
    "# from keras.datasets import mnist\n",
    "# import numpy as np\n",
    "\n",
    "# (x_train, _), (x_test, _) = mnist.load_data()\n",
    "\n",
    "# x_train = x_train.astype('float32') / 255.\n",
    "# x_test = x_test.astype('float32') / 255.\n",
    "# x_train = np.reshape(x_train, (len(x_train), 28, 28, 1))  # adapt this if using `channels_first` image data format\n",
    "# x_test = np.reshape(x_test, (len(x_test), 28, 28, 1))  # adapt this if using `channels_first` image data format\n",
    "\n",
    "# noise_factor = 0.5\n",
    "# x_train_noisy = x_train + noise_factor * np.random.normal(loc=0.0, scale=1.0, size=x_train.shape) \n",
    "# x_test_noisy = x_test + noise_factor * np.random.normal(loc=0.0, scale=1.0, size=x_test.shape) \n",
    "\n",
    "# x_train_noisy = np.clip(x_train_noisy, 0., 1.)\n",
    "# x_test_noisy = np.clip(x_test_noisy, 0., 1.)\n",
    "\n",
    "# n = 10\n",
    "# plt.figure(figsize=(20, 2))\n",
    "# for i in range(n):\n",
    "#     ax = plt.subplot(1, n, i+1)\n",
    "#     plt.imshow(x_test_noisy[i].reshape(28, 28))\n",
    "#     plt.gray()\n",
    "#     ax.get_xaxis().set_visible(False)\n",
    "#     ax.get_yaxis().set_visible(False)\n",
    "# plt.show()"
   ]
  }
 ],
 "metadata": {
  "accelerator": "GPU",
  "colab": {
   "collapsed_sections": [],
   "include_colab_link": true,
   "name": "DenoisingAutoencoder(18).ipynb",
   "provenance": [],
   "version": "0.3.2"
  },
  "kernelspec": {
   "display_name": "Python 3",
   "language": "python",
   "name": "python3"
  },
  "language_info": {
   "codemirror_mode": {
    "name": "ipython",
    "version": 3
   },
   "file_extension": ".py",
   "mimetype": "text/x-python",
   "name": "python",
   "nbconvert_exporter": "python",
   "pygments_lexer": "ipython3",
   "version": "3.7.3"
  }
 },
 "nbformat": 4,
 "nbformat_minor": 1
}
