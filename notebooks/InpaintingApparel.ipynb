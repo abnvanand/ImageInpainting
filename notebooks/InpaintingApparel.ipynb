{
  "nbformat": 4,
  "nbformat_minor": 0,
  "metadata": {
    "colab": {
      "name": "Inpainting.ipynb",
      "provenance": [],
      "collapsed_sections": []
    },
    "kernelspec": {
      "name": "python3",
      "display_name": "Python 3"
    },
    "accelerator": "GPU"
  },
  "cells": [
    {
      "cell_type": "code",
      "metadata": {
        "id": "6IdVAfP8UEp6",
        "colab_type": "code",
        "colab": {
          "base_uri": "https://localhost:8080/",
          "height": 34
        },
        "outputId": "0ab11dbc-a87a-4da5-ddcc-39208c55e4e1"
      },
      "source": [
        "from google.colab import drive\n",
        "drive.mount(\"/content/drive\", force_remount=True)"
      ],
      "execution_count": 1,
      "outputs": [
        {
          "output_type": "stream",
          "text": [
            "Mounted at /content/drive\n"
          ],
          "name": "stdout"
        }
      ]
    },
    {
      "cell_type": "code",
      "metadata": {
        "id": "VHsV-C85UIg5",
        "colab_type": "code",
        "colab": {
          "base_uri": "https://localhost:8080/",
          "height": 156
        },
        "outputId": "34524a5b-7b4f-476d-f817-dbc544f079b7"
      },
      "source": [
        "PREFIX = \"/content/drive/My Drive/Project/\"\n",
        "!ls \"$PREFIX\""
      ],
      "execution_count": 2,
      "outputs": [
        {
          "output_type": "stream",
          "text": [
            "AkaashNormal.ttf\t\t      Inpainting.ipynb\n",
            "cracklib-small\t\t\t      input\n",
            "DA_PatchingCombined.bak.ipynb\t      input64\n",
            "DA_PatchingCombined.ipynb\t      input-large\n",
            "DA_PatchingCombined-Neeraj.ipynb      Patching.ipynb\n",
            "DA_PatchingCombined_water_mark.ipynb  Patching.py\n",
            "DenoisingAutoencoder.bak.ipynb\t      results\n",
            "DenoisingAutoencoderMNIST.ipynb\n"
          ],
          "name": "stdout"
        }
      ]
    },
    {
      "cell_type": "code",
      "metadata": {
        "id": "KHgph2DC2wL_",
        "colab_type": "code",
        "trusted": true,
        "colab": {
          "base_uri": "https://localhost:8080/",
          "height": 81
        },
        "outputId": "d9ff8513-b76a-430a-c8f9-e0080712b8f2"
      },
      "source": [
        "import keras\n",
        "from keras.datasets import mnist,  fashion_mnist\n",
        "import numpy as np\n",
        "from keras.models import Sequential\n",
        "from keras.models import Model\n",
        "from keras.layers import Dense, InputLayer, Input\n",
        "import matplotlib.pyplot as plt\n",
        "from PIL import Image, ImageFont, ImageDraw\n",
        "import random\n",
        "import cv2"
      ],
      "execution_count": 3,
      "outputs": [
        {
          "output_type": "stream",
          "text": [
            "Using TensorFlow backend.\n"
          ],
          "name": "stderr"
        },
        {
          "output_type": "display_data",
          "data": {
            "text/html": [
              "<p style=\"color: red;\">\n",
              "The default version of TensorFlow in Colab will soon switch to TensorFlow 2.x.<br>\n",
              "We recommend you <a href=\"https://www.tensorflow.org/guide/migrate\" target=\"_blank\">upgrade</a> now \n",
              "or ensure your notebook will continue to use TensorFlow 1.x via the <code>%tensorflow_version 1.x</code> magic:\n",
              "<a href=\"https://colab.research.google.com/notebooks/tensorflow_version.ipynb\" target=\"_blank\">more info</a>.</p>\n"
            ],
            "text/plain": [
              "<IPython.core.display.HTML object>"
            ]
          },
          "metadata": {
            "tags": []
          }
        }
      ]
    },
    {
      "cell_type": "code",
      "metadata": {
        "id": "ajxxjoFg25rP",
        "colab_type": "code",
        "trusted": true,
        "colab": {
          "base_uri": "https://localhost:8080/",
          "height": 69
        },
        "outputId": "6203daf3-a0e1-4f7f-d079-dd941f4dbf7f"
      },
      "source": [
        "# data set of dim 28x28 greyscale images\n",
        "(x_train, _), (x_test, _) = fashion_mnist.load_data()\n",
        "\n",
        "# original dimensions of train & test datasets\n",
        "print(\"x_train.shape\", x_train.shape)\n",
        "print(\"x_test.shape\", x_test.shape)\n",
        "print(\"type(x_train)\", type(x_train))\n",
        "n, h, w = x_train.shape\n",
        "c = 1"
      ],
      "execution_count": 4,
      "outputs": [
        {
          "output_type": "stream",
          "text": [
            "x_train.shape (60000, 28, 28)\n",
            "x_test.shape (10000, 28, 28)\n",
            "type(x_train) <class 'numpy.ndarray'>\n"
          ],
          "name": "stdout"
        }
      ]
    },
    {
      "cell_type": "code",
      "metadata": {
        "id": "rme7ZtzQ7KKe",
        "colab_type": "code",
        "trusted": true,
        "colab": {
          "base_uri": "https://localhost:8080/",
          "height": 34
        },
        "outputId": "846939b4-ec71-45a6-f8b3-7f8b186e8581"
      },
      "source": [
        "# Reshape to include channel in dimension\n",
        "# TODO: change channel to 3 when using RGB images\n",
        "x_train = np.reshape(x_train, (len(x_train), h, w, c))  # by default uses `channels_last` image data format\n",
        "x_test = np.reshape(x_test, (len(x_test), h, w, c))\n",
        "\n",
        "# Dimensions after including channel info\n",
        "x_train.shape, x_test.shape"
      ],
      "execution_count": 5,
      "outputs": [
        {
          "output_type": "execute_result",
          "data": {
            "text/plain": [
              "((60000, 28, 28, 1), (10000, 28, 28, 1))"
            ]
          },
          "metadata": {
            "tags": []
          },
          "execution_count": 5
        }
      ]
    },
    {
      "cell_type": "code",
      "metadata": {
        "trusted": true,
        "id": "xqHXHIXZxLRr",
        "colab_type": "code",
        "colab": {}
      },
      "source": [
        "def add_noise(data, noise_factor = 0.5):\n",
        "    # add noise\n",
        "    res = data + noise_factor * np.random.normal(loc=0.0, scale=1.0, size=data.shape) \n",
        "\n",
        "    # clip to range\n",
        "    res = np.clip(res, 0., 1.)\n",
        "    return res\n",
        "\n",
        "\n",
        "def random_line(fname):\n",
        "    lines = open(fname).read().splitlines()\n",
        "    return random.choice(lines)\n",
        "\n",
        "def helper_watermark(image_name):\n",
        "    image_name = image_name.reshape(image_name.shape[0], image_name.shape[1])\n",
        "    im = Image.fromarray(image_name, \"L\")\n",
        "    initial_coordinate = 0\n",
        "    # for j in range(6):\n",
        "    sentance = \"Apple Mango Guava\"\n",
        "        # for i in range(2):\n",
        "            # sentance = sentance +\" \"+ random_line(PREFIX+'cracklib-small')\n",
        "    font_type = ImageFont.truetype((PREFIX+'AkaashNormal.ttf'), random.randint(2, 5))\n",
        "    draw = ImageDraw.Draw(im)\n",
        "    draw.text((5, initial_coordinate),sentance,font=font_type,fill=(0))\n",
        "    initial_coordinate = initial_coordinate + 5\n",
        "#     im.show()\n",
        "    return np.asarray(im)\n",
        "\n",
        "def add_water_mark(data):\n",
        "    noisy = np.array([helper_watermark(i) for i in data])\n",
        "    noisy = noisy.reshape(noisy.shape[0], noisy.shape[1], noisy.shape[2] , c)\n",
        "    return noisy\n",
        "\n",
        "x_train_noisy = add_water_mark(x_train)\n",
        "x_test_noisy = add_water_mark(x_test)\n",
        "\n",
        "# x_train_noisy = add_noise(x_train)\n",
        "# x_test_noisy = add_noise(x_test)"
      ],
      "execution_count": 0,
      "outputs": []
    },
    {
      "cell_type": "code",
      "metadata": {
        "id": "Ae3vkOKV6QNg",
        "colab_type": "code",
        "colab": {}
      },
      "source": [
        "# normalize to range [0,1]\n",
        "x_train = x_train.astype('float32') / 255.\n",
        "x_test = x_test.astype('float32') / 255."
      ],
      "execution_count": 0,
      "outputs": []
    },
    {
      "cell_type": "code",
      "metadata": {
        "trusted": true,
        "id": "B6cUiSqPxLR1",
        "colab_type": "code",
        "colab": {}
      },
      "source": [
        "def sigmoid(x, derivative=False):\n",
        "    sigm = 1. / (1. + np.exp(-x))\n",
        "    if derivative:\n",
        "        return sigm * (1. - sigm)\n",
        "    return sigm"
      ],
      "execution_count": 0,
      "outputs": []
    },
    {
      "cell_type": "code",
      "metadata": {
        "trusted": true,
        "id": "xWHk_XaAxLR9",
        "colab_type": "code",
        "colab": {}
      },
      "source": [
        "# KL Divergence regularizer for hidden unit activations\n",
        "import keras # if using keras\n",
        "import tensorflow as tf\n",
        "# from tensorflow import keras # if using tf.keras\n",
        "kullback_leibler_divergence = keras.losses.kullback_leibler_divergence\n",
        "K = keras.backend\n",
        "\n",
        "def kl_divergence_regularizer(activations):\n",
        "    rho_hat = K.mean(activations, axis=0)\n",
        "    nprho = np.full((rho_hat.get_shape().as_list()[0],) ,0.05)\n",
        "    rho = tf.convert_to_tensor(nprho, dtype=tf.float32)\n",
        "    return 0.01 * (kullback_leibler_divergence(rho, rho_hat)\n",
        "                 + kullback_leibler_divergence(1 - rho, 1 - rho_hat))"
      ],
      "execution_count": 0,
      "outputs": []
    },
    {
      "cell_type": "code",
      "metadata": {
        "id": "m_Ik7X9b3414",
        "colab_type": "code",
        "trusted": true,
        "colab": {
          "base_uri": "https://localhost:8080/",
          "height": 86
        },
        "outputId": "97b508e4-7e73-4ab1-acb3-06726451eadd"
      },
      "source": [
        "x_train.shape, x_train_noisy.shape, x_test.shape, x_test_noisy.shape"
      ],
      "execution_count": 10,
      "outputs": [
        {
          "output_type": "execute_result",
          "data": {
            "text/plain": [
              "((60000, 28, 28, 1),\n",
              " (60000, 28, 28, 1),\n",
              " (10000, 28, 28, 1),\n",
              " (10000, 28, 28, 1))"
            ]
          },
          "metadata": {
            "tags": []
          },
          "execution_count": 10
        }
      ]
    },
    {
      "cell_type": "code",
      "metadata": {
        "id": "rMS-xWKM96Af",
        "colab_type": "code",
        "trusted": true,
        "colab": {
          "base_uri": "https://localhost:8080/",
          "height": 34
        },
        "outputId": "ebcd86e5-5bbf-4948-e1ea-fb040daa3c20"
      },
      "source": [
        "# reshape(flatten) so that we can pass to neural network\n",
        "x_train = x_train.reshape(len(x_train), np.prod(x_train.shape[1:]))\n",
        "x_train_noisy = x_train_noisy.reshape(len(x_train_noisy), np.prod(x_train_noisy.shape[1:]))\n",
        "\n",
        "x_test = x_test.reshape(len(x_test), np.prod(x_test.shape[1:]))\n",
        "x_test_noisy = x_test_noisy.reshape(len(x_test_noisy), np.prod(x_test_noisy.shape[1:]))\n",
        "\n",
        "# shape after flattening\n",
        "x_train.shape, x_train_noisy.shape, x_test.shape, x_test_noisy.shape"
      ],
      "execution_count": 11,
      "outputs": [
        {
          "output_type": "execute_result",
          "data": {
            "text/plain": [
              "((60000, 784), (60000, 784), (10000, 784), (10000, 784))"
            ]
          },
          "metadata": {
            "tags": []
          },
          "execution_count": 11
        }
      ]
    },
    {
      "cell_type": "code",
      "metadata": {
        "id": "tKygyuHY3KxL",
        "colab_type": "code",
        "trusted": true,
        "colab": {
          "base_uri": "https://localhost:8080/",
          "height": 197
        },
        "outputId": "69c92a46-ce00-4c95-bd0b-d49f34470bf7"
      },
      "source": [
        "# print first 10 test images\n",
        "n = 10\n",
        "plt.figure(figsize=(20, 3))\n",
        "for i in range(n):\n",
        "    ax = plt.subplot(2, n, i+1)\n",
        "    plt.imshow(x_test[i].reshape(h, w))\n",
        "    plt.gray()\n",
        "    ax.get_xaxis().set_visible(False)\n",
        "    ax.get_yaxis().set_visible(False)\n",
        "\n",
        "    ax = plt.subplot(2, n, i+1+10)\n",
        "    plt.imshow(x_test_noisy[i].reshape(h, w))\n",
        "    plt.gray()\n",
        "    ax.get_xaxis().set_visible(False)\n",
        "    ax.get_yaxis().set_visible(False)\n",
        "    \n",
        "\n",
        "plt.show()"
      ],
      "execution_count": 12,
      "outputs": [
        {
          "output_type": "display_data",
          "data": {
            "image/png": "[encoded data removed]",
            "text/plain": [
              "<Figure size 1440x216 with 20 Axes>"
            ]
          },
          "metadata": {
            "tags": []
          }
        }
      ]
    },
    {
      "cell_type": "code",
      "metadata": {
        "id": "rbCi29ic5hmp",
        "colab_type": "code",
        "trusted": true,
        "colab": {
          "base_uri": "https://localhost:8080/",
          "height": 419
        },
        "outputId": "ded58297-2377-455b-f557-960b97566acd"
      },
      "source": [
        "lambdaa = 0.000001\n",
        "input_layer = Input(shape=(784,))\n",
        "hidden_layer = Dense(units=3*784, activation='sigmoid', \n",
        "                    activity_regularizer=kl_divergence_regularizer,\n",
        "                    kernel_regularizer=keras.regularizers.l2(lambdaa)\n",
        "                    )(input_layer)\n",
        "output_layer = Dense(units=784, activation='sigmoid',\n",
        "                    kernel_regularizer=keras.regularizers.l2(lambdaa)\n",
        "                    )(hidden_layer)\n",
        "da1 = Model(input_layer, output_layer)\n",
        "da1.summary()"
      ],
      "execution_count": 13,
      "outputs": [
        {
          "output_type": "stream",
          "text": [
            "WARNING:tensorflow:From /usr/local/lib/python3.6/dist-packages/keras/backend/tensorflow_backend.py:66: The name tf.get_default_graph is deprecated. Please use tf.compat.v1.get_default_graph instead.\n",
            "\n",
            "WARNING:tensorflow:From /usr/local/lib/python3.6/dist-packages/keras/backend/tensorflow_backend.py:541: The name tf.placeholder is deprecated. Please use tf.compat.v1.placeholder instead.\n",
            "\n",
            "WARNING:tensorflow:From /usr/local/lib/python3.6/dist-packages/keras/backend/tensorflow_backend.py:4432: The name tf.random_uniform is deprecated. Please use tf.random.uniform instead.\n",
            "\n",
            "WARNING:tensorflow:From /usr/local/lib/python3.6/dist-packages/keras/backend/tensorflow_backend.py:1702: The name tf.log is deprecated. Please use tf.math.log instead.\n",
            "\n",
            "Model: \"model_1\"\n",
            "_________________________________________________________________\n",
            "Layer (type)                 Output Shape              Param #   \n",
            "=================================================================\n",
            "input_1 (InputLayer)         (None, 784)               0         \n",
            "_________________________________________________________________\n",
            "dense_1 (Dense)              (None, 2352)              1846320   \n",
            "_________________________________________________________________\n",
            "dense_2 (Dense)              (None, 784)               1844752   \n",
            "=================================================================\n",
            "Total params: 3,691,072\n",
            "Trainable params: 3,691,072\n",
            "Non-trainable params: 0\n",
            "_________________________________________________________________\n"
          ],
          "name": "stdout"
        }
      ]
    },
    {
      "cell_type": "code",
      "metadata": {
        "id": "rTWPUubVCoNo",
        "colab_type": "code",
        "trusted": true,
        "colab": {
          "base_uri": "https://localhost:8080/",
          "height": 1000
        },
        "outputId": "4c2c5b44-a1c0-4228-e19a-3c75d890aed1"
      },
      "source": [
        "from keras import optimizers\n",
        "adam = optimizers.Adam(lr=0.1)\n",
        "da1.compile(optimizer=adam, loss='mse')\n",
        "da1.fit(x_train_noisy, x_train,\n",
        "                epochs=50,\n",
        "                batch_size=120,\n",
        "                shuffle=True)"
      ],
      "execution_count": 14,
      "outputs": [
        {
          "output_type": "stream",
          "text": [
            "WARNING:tensorflow:From /usr/local/lib/python3.6/dist-packages/keras/optimizers.py:793: The name tf.train.Optimizer is deprecated. Please use tf.compat.v1.train.Optimizer instead.\n",
            "\n",
            "WARNING:tensorflow:From /usr/local/lib/python3.6/dist-packages/tensorflow_core/python/ops/math_grad.py:1424: where (from tensorflow.python.ops.array_ops) is deprecated and will be removed in a future version.\n",
            "Instructions for updating:\n",
            "Use tf.where in 2.0, which has the same broadcast rule as np.where\n",
            "WARNING:tensorflow:From /usr/local/lib/python3.6/dist-packages/keras/backend/tensorflow_backend.py:1033: The name tf.assign_add is deprecated. Please use tf.compat.v1.assign_add instead.\n",
            "\n",
            "WARNING:tensorflow:From /usr/local/lib/python3.6/dist-packages/keras/backend/tensorflow_backend.py:1020: The name tf.assign is deprecated. Please use tf.compat.v1.assign instead.\n",
            "\n",
            "WARNING:tensorflow:From /usr/local/lib/python3.6/dist-packages/keras/backend/tensorflow_backend.py:3005: The name tf.Session is deprecated. Please use tf.compat.v1.Session instead.\n",
            "\n",
            "Epoch 1/50\n",
            "WARNING:tensorflow:From /usr/local/lib/python3.6/dist-packages/keras/backend/tensorflow_backend.py:190: The name tf.get_default_session is deprecated. Please use tf.compat.v1.get_default_session instead.\n",
            "\n",
            "WARNING:tensorflow:From /usr/local/lib/python3.6/dist-packages/keras/backend/tensorflow_backend.py:197: The name tf.ConfigProto is deprecated. Please use tf.compat.v1.ConfigProto instead.\n",
            "\n",
            "WARNING:tensorflow:From /usr/local/lib/python3.6/dist-packages/keras/backend/tensorflow_backend.py:207: The name tf.global_variables is deprecated. Please use tf.compat.v1.global_variables instead.\n",
            "\n",
            "WARNING:tensorflow:From /usr/local/lib/python3.6/dist-packages/keras/backend/tensorflow_backend.py:216: The name tf.is_variable_initialized is deprecated. Please use tf.compat.v1.is_variable_initialized instead.\n",
            "\n",
            "WARNING:tensorflow:From /usr/local/lib/python3.6/dist-packages/keras/backend/tensorflow_backend.py:223: The name tf.variables_initializer is deprecated. Please use tf.compat.v1.variables_initializer instead.\n",
            "\n",
            "60000/60000 [==============================] - 7s 116us/step - loss: 47.8270\n",
            "Epoch 2/50\n",
            "60000/60000 [==============================] - 6s 93us/step - loss: 50.8608\n",
            "Epoch 3/50\n",
            "60000/60000 [==============================] - 6s 93us/step - loss: 56.0972\n",
            "Epoch 4/50\n",
            "60000/60000 [==============================] - 6s 93us/step - loss: 65.1172\n",
            "Epoch 5/50\n",
            "60000/60000 [==============================] - 6s 94us/step - loss: 77.6258\n",
            "Epoch 6/50\n",
            "60000/60000 [==============================] - 6s 97us/step - loss: 94.4240\n",
            "Epoch 7/50\n",
            "60000/60000 [==============================] - 6s 93us/step - loss: 111.2051\n",
            "Epoch 8/50\n",
            "60000/60000 [==============================] - 6s 93us/step - loss: 132.5679\n",
            "Epoch 9/50\n",
            "60000/60000 [==============================] - 6s 93us/step - loss: 153.5960\n",
            "Epoch 10/50\n",
            "60000/60000 [==============================] - 6s 94us/step - loss: 173.5479\n",
            "Epoch 11/50\n",
            "60000/60000 [==============================] - 6s 93us/step - loss: 192.8189\n",
            "Epoch 12/50\n",
            "60000/60000 [==============================] - 6s 94us/step - loss: 209.2114\n",
            "Epoch 13/50\n",
            "60000/60000 [==============================] - 6s 93us/step - loss: 220.8864\n",
            "Epoch 14/50\n",
            "60000/60000 [==============================] - 6s 93us/step - loss: 220.7757\n",
            "Epoch 15/50\n",
            "60000/60000 [==============================] - 6s 94us/step - loss: 210.5784\n",
            "Epoch 16/50\n",
            "60000/60000 [==============================] - 6s 95us/step - loss: 194.9995\n",
            "Epoch 17/50\n",
            "60000/60000 [==============================] - 6s 97us/step - loss: 179.2262\n",
            "Epoch 18/50\n",
            "60000/60000 [==============================] - 6s 93us/step - loss: 156.6789\n",
            "Epoch 19/50\n",
            "60000/60000 [==============================] - 6s 93us/step - loss: 135.6556\n",
            "Epoch 20/50\n",
            "60000/60000 [==============================] - 6s 94us/step - loss: 115.0596\n",
            "Epoch 21/50\n",
            "60000/60000 [==============================] - 6s 92us/step - loss: 88.3122\n",
            "Epoch 22/50\n",
            "60000/60000 [==============================] - 6s 93us/step - loss: 73.7224\n",
            "Epoch 23/50\n",
            "60000/60000 [==============================] - 6s 94us/step - loss: 59.3646\n",
            "Epoch 24/50\n",
            "60000/60000 [==============================] - 6s 94us/step - loss: 48.3491\n",
            "Epoch 25/50\n",
            "60000/60000 [==============================] - 6s 92us/step - loss: 42.0531\n",
            "Epoch 26/50\n",
            "60000/60000 [==============================] - 6s 93us/step - loss: 37.8814\n",
            "Epoch 27/50\n",
            "60000/60000 [==============================] - 6s 93us/step - loss: 36.0779\n",
            "Epoch 28/50\n",
            "60000/60000 [==============================] - 6s 93us/step - loss: 34.9001\n",
            "Epoch 29/50\n",
            "60000/60000 [==============================] - 6s 93us/step - loss: 33.4224\n",
            "Epoch 30/50\n",
            "60000/60000 [==============================] - 6s 94us/step - loss: 31.7839\n",
            "Epoch 31/50\n",
            "60000/60000 [==============================] - 6s 94us/step - loss: 31.9819\n",
            "Epoch 32/50\n",
            "60000/60000 [==============================] - 6s 94us/step - loss: 34.3736\n",
            "Epoch 33/50\n",
            "60000/60000 [==============================] - 6s 93us/step - loss: 37.7936\n",
            "Epoch 34/50\n",
            "60000/60000 [==============================] - 6s 94us/step - loss: 41.2209\n",
            "Epoch 35/50\n",
            "60000/60000 [==============================] - 6s 95us/step - loss: 42.9072\n",
            "Epoch 36/50\n",
            "60000/60000 [==============================] - 6s 94us/step - loss: 46.6912\n",
            "Epoch 37/50\n",
            "60000/60000 [==============================] - 6s 95us/step - loss: 52.2542\n",
            "Epoch 38/50\n",
            "60000/60000 [==============================] - 6s 94us/step - loss: 58.1886\n",
            "Epoch 39/50\n",
            "60000/60000 [==============================] - 6s 94us/step - loss: 65.3863\n",
            "Epoch 40/50\n",
            "60000/60000 [==============================] - 6s 94us/step - loss: 70.4492\n",
            "Epoch 41/50\n",
            "60000/60000 [==============================] - 6s 93us/step - loss: 77.5735\n",
            "Epoch 42/50\n",
            "60000/60000 [==============================] - 6s 94us/step - loss: 83.8625\n",
            "Epoch 43/50\n",
            "60000/60000 [==============================] - 6s 95us/step - loss: 91.2408\n",
            "Epoch 44/50\n",
            "60000/60000 [==============================] - 6s 96us/step - loss: 97.4883\n",
            "Epoch 45/50\n",
            "60000/60000 [==============================] - 6s 96us/step - loss: 101.3885\n",
            "Epoch 46/50\n",
            "60000/60000 [==============================] - 6s 94us/step - loss: 105.2523\n",
            "Epoch 47/50\n",
            "60000/60000 [==============================] - 6s 94us/step - loss: 107.6099\n",
            "Epoch 48/50\n",
            "60000/60000 [==============================] - 6s 94us/step - loss: 114.3865\n",
            "Epoch 49/50\n",
            "60000/60000 [==============================] - 6s 94us/step - loss: 118.9873\n",
            "Epoch 50/50\n",
            "60000/60000 [==============================] - 6s 93us/step - loss: 119.0219\n"
          ],
          "name": "stdout"
        },
        {
          "output_type": "execute_result",
          "data": {
            "text/plain": [
              "<keras.callbacks.History at 0x7ff9eb397c18>"
            ]
          },
          "metadata": {
            "tags": []
          },
          "execution_count": 14
        }
      ]
    },
    {
      "cell_type": "code",
      "metadata": {
        "id": "VaixZWNcHOK7",
        "colab_type": "code",
        "trusted": true,
        "colab": {}
      },
      "source": [
        "predicted = da1.predict(x_test_noisy)"
      ],
      "execution_count": 0,
      "outputs": []
    },
    {
      "cell_type": "code",
      "metadata": {
        "trusted": true,
        "id": "NoBtOjFTxLSv",
        "colab_type": "code",
        "colab": {
          "base_uri": "https://localhost:8080/",
          "height": 252
        },
        "outputId": "2f420bf6-fc18-45b3-c4e2-445f215df67a"
      },
      "source": [
        "plt.figure(figsize=(40, 4))\n",
        "for i in range(10):\n",
        "    # display original images\n",
        "    ax = plt.subplot(3, 20, i + 1)\n",
        "    plt.imshow(x_test[i].reshape(h, w))\n",
        "    plt.gray()\n",
        "    ax.get_xaxis().set_visible(False)\n",
        "    ax.get_yaxis().set_visible(False)\n",
        "    \n",
        "    # display noisy images\n",
        "    ax = plt.subplot(3, 20, i + 1 + 20)\n",
        "    plt.imshow(x_test_noisy[i].reshape(h, w))\n",
        "    plt.gray()\n",
        "    ax.get_xaxis().set_visible(False)\n",
        "    ax.get_yaxis().set_visible(False)\n",
        "    \n",
        "    # display reconstructed images\n",
        "    ax = plt.subplot(3, 20, 2*20 +i+ 1)\n",
        "    plt.imshow(predicted[i].reshape(h, w))\n",
        "    plt.gray()\n",
        "    ax.get_xaxis().set_visible(False)\n",
        "    ax.get_yaxis().set_visible(False)\n",
        "\n",
        "\n",
        "plt.show()"
      ],
      "execution_count": 16,
      "outputs": [
        {
          "output_type": "display_data",
          "data": {
            "image/png": "[encoded data removed]",
            "text/plain": [
              "<Figure size 2880x288 with 30 Axes>"
            ]
          },
          "metadata": {
            "tags": []
          }
        }
      ]
    },
    {
      "cell_type": "code",
      "metadata": {
        "trusted": true,
        "id": "lcc_MLB1xLS8",
        "colab_type": "code",
        "colab": {
          "base_uri": "https://localhost:8080/",
          "height": 52
        },
        "outputId": "62401449-868c-43a4-c1c5-64f448f56cd7"
      },
      "source": [
        "import pandas as pd\n",
        "\n",
        "hiddenLayerWeights = pd.DataFrame(da1.layers[1].get_weights()[0]).values\n",
        "hiddenLayerBias = pd.DataFrame(da1.layers[1].get_weights()[1]).values\n",
        "hiddenLayerWeights.shape, type(hiddenLayerWeights), hiddenLayerBias.shape, type(hiddenLayerBias)\n",
        "\n",
        "Wx = np.dot(x_train_noisy, hiddenLayerWeights)\n",
        "b =  hiddenLayerBias.T\n",
        "hX = sigmoid(Wx+b)\n",
        "\n",
        "Wy = np.dot(x_train, hiddenLayerWeights)\n",
        "hY = sigmoid(Wy + b)"
      ],
      "execution_count": 17,
      "outputs": [
        {
          "output_type": "stream",
          "text": [
            "/usr/local/lib/python3.6/dist-packages/ipykernel_launcher.py:2: RuntimeWarning: overflow encountered in exp\n",
            "  \n"
          ],
          "name": "stderr"
        }
      ]
    },
    {
      "cell_type": "code",
      "metadata": {
        "trusted": true,
        "id": "3gDT6MMTxLTB",
        "colab_type": "code",
        "colab": {
          "base_uri": "https://localhost:8080/",
          "height": 34
        },
        "outputId": "6412cfee-f985-4a30-f9f4-a5fca855c001"
      },
      "source": [
        "hX.shape, hY.shape"
      ],
      "execution_count": 18,
      "outputs": [
        {
          "output_type": "execute_result",
          "data": {
            "text/plain": [
              "((60000, 2352), (60000, 2352))"
            ]
          },
          "metadata": {
            "tags": []
          },
          "execution_count": 18
        }
      ]
    },
    {
      "cell_type": "code",
      "metadata": {
        "trusted": true,
        "id": "cS7AVyZ8xLTG",
        "colab_type": "code",
        "colab": {
          "base_uri": "https://localhost:8080/",
          "height": 260
        },
        "outputId": "f523d25a-e2d7-4784-e80d-84f2654b036c"
      },
      "source": [
        "input_layer2 = Input(shape=(3*784,))\n",
        "hidden_layer2 = Dense(units=3*3*784, activation='sigmoid',\n",
        "                    activity_regularizer=kl_divergence_regularizer,\n",
        "                    kernel_regularizer=keras.regularizers.l2(lambdaa)\n",
        "                    )(input_layer2)\n",
        "output_layer2 = Dense(units=3*784, activation='sigmoid',\n",
        "                    kernel_regularizer=keras.regularizers.l2(lambdaa)\n",
        "                    )(hidden_layer2)\n",
        "da2 = Model(input_layer2, output_layer2)\n",
        "da2.summary()"
      ],
      "execution_count": 19,
      "outputs": [
        {
          "output_type": "stream",
          "text": [
            "Model: \"model_2\"\n",
            "_________________________________________________________________\n",
            "Layer (type)                 Output Shape              Param #   \n",
            "=================================================================\n",
            "input_2 (InputLayer)         (None, 2352)              0         \n",
            "_________________________________________________________________\n",
            "dense_3 (Dense)              (None, 7056)              16602768  \n",
            "_________________________________________________________________\n",
            "dense_4 (Dense)              (None, 2352)              16598064  \n",
            "=================================================================\n",
            "Total params: 33,200,832\n",
            "Trainable params: 33,200,832\n",
            "Non-trainable params: 0\n",
            "_________________________________________________________________\n"
          ],
          "name": "stdout"
        }
      ]
    },
    {
      "cell_type": "code",
      "metadata": {
        "trusted": true,
        "id": "xmXFDx_jxLTN",
        "colab_type": "code",
        "colab": {
          "base_uri": "https://localhost:8080/",
          "height": 1000
        },
        "outputId": "fa4a3a07-19f6-4775-82b5-d23717bf1864"
      },
      "source": [
        "da2.compile(optimizer='adam', loss='mse')\n",
        "da2.fit(hX, hY,\n",
        "                epochs=50,\n",
        "                batch_size=120,\n",
        "                shuffle=True)"
      ],
      "execution_count": 20,
      "outputs": [
        {
          "output_type": "stream",
          "text": [
            "Epoch 1/50\n",
            "60000/60000 [==============================] - 34s 563us/step - loss: 0.2835\n",
            "Epoch 2/50\n",
            "60000/60000 [==============================] - 33s 549us/step - loss: 0.0231\n",
            "Epoch 3/50\n",
            "60000/60000 [==============================] - 33s 546us/step - loss: 0.0226\n",
            "Epoch 4/50\n",
            "60000/60000 [==============================] - 33s 548us/step - loss: 0.0232\n",
            "Epoch 5/50\n",
            "60000/60000 [==============================] - 33s 547us/step - loss: 0.0240\n",
            "Epoch 6/50\n",
            "60000/60000 [==============================] - 33s 547us/step - loss: 0.0242\n",
            "Epoch 7/50\n",
            "60000/60000 [==============================] - 33s 548us/step - loss: 0.0259\n",
            "Epoch 8/50\n",
            "60000/60000 [==============================] - 33s 546us/step - loss: 0.0256\n",
            "Epoch 9/50\n",
            "60000/60000 [==============================] - 33s 545us/step - loss: 0.0253\n",
            "Epoch 10/50\n",
            "60000/60000 [==============================] - 33s 547us/step - loss: 0.0264\n",
            "Epoch 11/50\n",
            "60000/60000 [==============================] - 33s 548us/step - loss: 0.0262\n",
            "Epoch 12/50\n",
            "60000/60000 [==============================] - 33s 547us/step - loss: 0.0255\n",
            "Epoch 13/50\n",
            "60000/60000 [==============================] - 33s 548us/step - loss: 0.0263\n",
            "Epoch 14/50\n",
            "60000/60000 [==============================] - 33s 548us/step - loss: 0.0267\n",
            "Epoch 15/50\n",
            "60000/60000 [==============================] - 33s 546us/step - loss: 0.0253\n",
            "Epoch 16/50\n",
            "60000/60000 [==============================] - 33s 548us/step - loss: 0.0254\n",
            "Epoch 17/50\n",
            "60000/60000 [==============================] - 33s 546us/step - loss: 0.0241\n",
            "Epoch 18/50\n",
            "60000/60000 [==============================] - 33s 547us/step - loss: 0.0245\n",
            "Epoch 19/50\n",
            "60000/60000 [==============================] - 33s 547us/step - loss: 0.0265\n",
            "Epoch 20/50\n",
            "60000/60000 [==============================] - 33s 546us/step - loss: 0.0273\n",
            "Epoch 21/50\n",
            "60000/60000 [==============================] - 33s 545us/step - loss: 0.0248\n",
            "Epoch 22/50\n",
            "60000/60000 [==============================] - 33s 545us/step - loss: 0.0245\n",
            "Epoch 23/50\n",
            "60000/60000 [==============================] - 33s 547us/step - loss: 0.0241\n",
            "Epoch 24/50\n",
            "60000/60000 [==============================] - 33s 547us/step - loss: 0.0234\n",
            "Epoch 25/50\n",
            "60000/60000 [==============================] - 33s 547us/step - loss: 0.0241\n",
            "Epoch 26/50\n",
            "60000/60000 [==============================] - 33s 546us/step - loss: 0.0258\n",
            "Epoch 27/50\n",
            "60000/60000 [==============================] - 33s 548us/step - loss: 0.0254\n",
            "Epoch 28/50\n",
            "60000/60000 [==============================] - 33s 547us/step - loss: 0.0250\n",
            "Epoch 29/50\n",
            "60000/60000 [==============================] - 33s 547us/step - loss: 0.0263\n",
            "Epoch 30/50\n",
            "60000/60000 [==============================] - 33s 549us/step - loss: 0.0241\n",
            "Epoch 31/50\n",
            "60000/60000 [==============================] - 33s 550us/step - loss: 0.0247\n",
            "Epoch 32/50\n",
            "60000/60000 [==============================] - 33s 547us/step - loss: 0.0247\n",
            "Epoch 33/50\n",
            "60000/60000 [==============================] - 33s 546us/step - loss: 0.0250\n",
            "Epoch 34/50\n",
            "60000/60000 [==============================] - 33s 547us/step - loss: 0.0252\n",
            "Epoch 35/50\n",
            "60000/60000 [==============================] - 33s 547us/step - loss: 0.0261\n",
            "Epoch 36/50\n",
            "60000/60000 [==============================] - 33s 546us/step - loss: 0.0256\n",
            "Epoch 37/50\n",
            "60000/60000 [==============================] - 33s 548us/step - loss: 0.0251\n",
            "Epoch 38/50\n",
            "60000/60000 [==============================] - 33s 548us/step - loss: 0.0239\n",
            "Epoch 39/50\n",
            "60000/60000 [==============================] - 33s 547us/step - loss: 0.0249\n",
            "Epoch 40/50\n",
            "60000/60000 [==============================] - 33s 549us/step - loss: 0.0244\n",
            "Epoch 41/50\n",
            "60000/60000 [==============================] - 33s 548us/step - loss: 0.0241\n",
            "Epoch 42/50\n",
            "60000/60000 [==============================] - 33s 548us/step - loss: 0.0239\n",
            "Epoch 43/50\n",
            "60000/60000 [==============================] - 33s 547us/step - loss: 0.0240\n",
            "Epoch 44/50\n",
            "60000/60000 [==============================] - 33s 549us/step - loss: 0.0232\n",
            "Epoch 45/50\n",
            "60000/60000 [==============================] - 33s 548us/step - loss: 0.0238\n",
            "Epoch 46/50\n",
            "60000/60000 [==============================] - 33s 546us/step - loss: 0.0230\n",
            "Epoch 47/50\n",
            "60000/60000 [==============================] - 33s 547us/step - loss: 0.0259\n",
            "Epoch 48/50\n",
            "60000/60000 [==============================] - 33s 548us/step - loss: 0.0233\n",
            "Epoch 49/50\n",
            "60000/60000 [==============================] - 33s 547us/step - loss: 0.0234\n",
            "Epoch 50/50\n",
            "60000/60000 [==============================] - 33s 548us/step - loss: 0.0234\n"
          ],
          "name": "stdout"
        },
        {
          "output_type": "execute_result",
          "data": {
            "text/plain": [
              "<keras.callbacks.History at 0x7ff9ea0ccd30>"
            ]
          },
          "metadata": {
            "tags": []
          },
          "execution_count": 20
        }
      ]
    },
    {
      "cell_type": "code",
      "metadata": {
        "trusted": true,
        "id": "3hxZMlUtxLTU",
        "colab_type": "code",
        "colab": {}
      },
      "source": [
        "# Extract weights\n",
        "W1, B1 = da1.layers[1].get_weights()\n",
        "W1_dash, B1_dash = da1.layers[2].get_weights()\n",
        "\n",
        "W2, B2 = da2.layers[1].get_weights()\n",
        "W2_dash, B2_dash = da2.layers[2].get_weights()\n"
      ],
      "execution_count": 0,
      "outputs": []
    },
    {
      "cell_type": "code",
      "metadata": {
        "trusted": true,
        "id": "KgDIkqQ0xLTa",
        "colab_type": "code",
        "colab": {
          "base_uri": "https://localhost:8080/",
          "height": 34
        },
        "outputId": "42b8bbce-e7dc-42a3-d01f-ace3ad11a89d"
      },
      "source": [
        "W1.shape, W2.shape, W2_dash.shape, W1_dash.shape\n",
        "# B1.shape, B2.shape, B2_dash.shape, B1_dash.shape\n",
        "# len(B1), len(B2), len(B2_dash), len(B1_dash)"
      ],
      "execution_count": 22,
      "outputs": [
        {
          "output_type": "execute_result",
          "data": {
            "text/plain": [
              "((784, 2352), (2352, 7056), (7056, 2352), (2352, 784))"
            ]
          },
          "metadata": {
            "tags": []
          },
          "execution_count": 22
        }
      ]
    },
    {
      "cell_type": "code",
      "metadata": {
        "trusted": true,
        "id": "aKoJnwwjxLTk",
        "colab_type": "code",
        "colab": {
          "base_uri": "https://localhost:8080/",
          "height": 330
        },
        "outputId": "474d8f93-9b21-4438-8e2e-9a346bbf589c"
      },
      "source": [
        "input_layer = Input(shape=(W1.shape[0],))\n",
        "h1 = Dense(units=W1.shape[1], activation='sigmoid', \n",
        "                    kernel_regularizer=keras.regularizers.l2(lambdaa)\n",
        "                    )(input_layer)\n",
        "h2 = Dense(units=W2.shape[1], activation='sigmoid', \n",
        "                    kernel_regularizer=keras.regularizers.l2(lambdaa)\n",
        "                    )(h1)\n",
        "h3 = Dense(units=W2_dash.shape[1], activation='sigmoid', \n",
        "                    kernel_regularizer=keras.regularizers.l2(lambdaa)\n",
        "                    )(h2)\n",
        "output_layer = Dense(units=W1_dash.shape[1], activation='sigmoid',\n",
        "                    kernel_regularizer=keras.regularizers.l2(lambdaa)\n",
        "                    )(h3)\n",
        "\n",
        "dnn = Model(input_layer, output_layer)\n",
        "\n",
        "# Initialize with pretrained weights\n",
        "B1 = np.random.uniform(0,1,B1.shape)\n",
        "B2 = np.random.uniform(0,1,B2.shape)\n",
        "B1_dash = np.random.uniform(0,1,B1_dash.shape)\n",
        "B2_dash = np.random.uniform(0,1,B2_dash.shape)\n",
        "\n",
        "dnn.layers[1].set_weights([W1, B1])\n",
        "dnn.layers[2].set_weights([W2, B2])\n",
        "dnn.layers[3].set_weights([W2_dash, B2_dash])\n",
        "dnn.layers[4].set_weights([W1_dash, B1_dash])\n",
        "\n",
        "dnn.summary()"
      ],
      "execution_count": 23,
      "outputs": [
        {
          "output_type": "stream",
          "text": [
            "Model: \"model_3\"\n",
            "_________________________________________________________________\n",
            "Layer (type)                 Output Shape              Param #   \n",
            "=================================================================\n",
            "input_3 (InputLayer)         (None, 784)               0         \n",
            "_________________________________________________________________\n",
            "dense_5 (Dense)              (None, 2352)              1846320   \n",
            "_________________________________________________________________\n",
            "dense_6 (Dense)              (None, 7056)              16602768  \n",
            "_________________________________________________________________\n",
            "dense_7 (Dense)              (None, 2352)              16598064  \n",
            "_________________________________________________________________\n",
            "dense_8 (Dense)              (None, 784)               1844752   \n",
            "=================================================================\n",
            "Total params: 36,891,904\n",
            "Trainable params: 36,891,904\n",
            "Non-trainable params: 0\n",
            "_________________________________________________________________\n"
          ],
          "name": "stdout"
        }
      ]
    },
    {
      "cell_type": "code",
      "metadata": {
        "trusted": true,
        "id": "mK-iQZ-sxLTr",
        "colab_type": "code",
        "colab": {}
      },
      "source": [
        "# x_sample = x_train[0].reshape(28, 28)\n",
        "# plt.imshow(x_sample, interpolation='nearest')\n",
        "# plt.show()"
      ],
      "execution_count": 0,
      "outputs": []
    },
    {
      "cell_type": "code",
      "metadata": {
        "trusted": true,
        "id": "7op-3od7xLTw",
        "colab_type": "code",
        "colab": {
          "base_uri": "https://localhost:8080/",
          "height": 1000
        },
        "outputId": "33dca271-f5cd-4ca6-f4bd-70bc763f680a"
      },
      "source": [
        "dnn.compile('adam', loss='mse')\n",
        "dnn.fit(x_train_noisy, x_train,\n",
        "                epochs=50,\n",
        "                batch_size=120,\n",
        "                shuffle=True)"
      ],
      "execution_count": 25,
      "outputs": [
        {
          "output_type": "stream",
          "text": [
            "Epoch 1/50\n",
            "60000/60000 [==============================] - 39s 644us/step - loss: 2.7283\n",
            "Epoch 2/50\n",
            "60000/60000 [==============================] - 37s 625us/step - loss: 1.8947\n",
            "Epoch 3/50\n",
            "60000/60000 [==============================] - 37s 622us/step - loss: 1.3431\n",
            "Epoch 4/50\n",
            "60000/60000 [==============================] - 37s 625us/step - loss: 0.9671\n",
            "Epoch 5/50\n",
            "60000/60000 [==============================] - 37s 623us/step - loss: 0.7095\n",
            "Epoch 6/50\n",
            "60000/60000 [==============================] - 37s 624us/step - loss: 0.5325\n",
            "Epoch 7/50\n",
            "60000/60000 [==============================] - 37s 623us/step - loss: 0.4128\n",
            "Epoch 8/50\n",
            "60000/60000 [==============================] - 37s 623us/step - loss: 0.3327\n",
            "Epoch 9/50\n",
            "60000/60000 [==============================] - 37s 624us/step - loss: 0.2784\n",
            "Epoch 10/50\n",
            "60000/60000 [==============================] - 37s 624us/step - loss: 0.2410\n",
            "Epoch 11/50\n",
            "60000/60000 [==============================] - 37s 623us/step - loss: 0.2142\n",
            "Epoch 12/50\n",
            "60000/60000 [==============================] - 37s 623us/step - loss: 0.1932\n",
            "Epoch 13/50\n",
            "60000/60000 [==============================] - 37s 623us/step - loss: 0.1761\n",
            "Epoch 14/50\n",
            "60000/60000 [==============================] - 37s 623us/step - loss: 0.1617\n",
            "Epoch 15/50\n",
            "60000/60000 [==============================] - 37s 622us/step - loss: 0.1494\n",
            "Epoch 16/50\n",
            "60000/60000 [==============================] - 37s 624us/step - loss: 0.1389\n",
            "Epoch 17/50\n",
            "60000/60000 [==============================] - 37s 622us/step - loss: 0.1292\n",
            "Epoch 18/50\n",
            "60000/60000 [==============================] - 37s 624us/step - loss: 0.1209\n",
            "Epoch 19/50\n",
            "60000/60000 [==============================] - 37s 622us/step - loss: 0.1134\n",
            "Epoch 20/50\n",
            "60000/60000 [==============================] - 37s 623us/step - loss: 0.1068\n",
            "Epoch 21/50\n",
            "60000/60000 [==============================] - 37s 623us/step - loss: 0.1008\n",
            "Epoch 22/50\n",
            "60000/60000 [==============================] - 37s 623us/step - loss: 0.0955\n",
            "Epoch 23/50\n",
            "60000/60000 [==============================] - 37s 624us/step - loss: 0.0908\n",
            "Epoch 24/50\n",
            "60000/60000 [==============================] - 37s 623us/step - loss: 0.0862\n",
            "Epoch 25/50\n",
            "60000/60000 [==============================] - 37s 623us/step - loss: 0.0824\n",
            "Epoch 26/50\n",
            "60000/60000 [==============================] - 37s 623us/step - loss: 0.0787\n",
            "Epoch 27/50\n",
            "60000/60000 [==============================] - 37s 623us/step - loss: 0.0751\n",
            "Epoch 28/50\n",
            "60000/60000 [==============================] - 37s 623us/step - loss: 0.0720\n",
            "Epoch 29/50\n",
            "60000/60000 [==============================] - 37s 623us/step - loss: 0.0692\n",
            "Epoch 30/50\n",
            "60000/60000 [==============================] - 37s 624us/step - loss: 0.0667\n",
            "Epoch 31/50\n",
            "60000/60000 [==============================] - 37s 625us/step - loss: 0.0642\n",
            "Epoch 32/50\n",
            "60000/60000 [==============================] - 37s 623us/step - loss: 0.0621\n",
            "Epoch 33/50\n",
            "60000/60000 [==============================] - 37s 624us/step - loss: 0.0600\n",
            "Epoch 34/50\n",
            "60000/60000 [==============================] - 37s 623us/step - loss: 0.0582\n",
            "Epoch 35/50\n",
            "60000/60000 [==============================] - 37s 623us/step - loss: 0.0565\n",
            "Epoch 36/50\n",
            "60000/60000 [==============================] - 37s 623us/step - loss: 0.0549\n",
            "Epoch 37/50\n",
            "60000/60000 [==============================] - 37s 622us/step - loss: 0.0532\n",
            "Epoch 38/50\n",
            "60000/60000 [==============================] - 37s 623us/step - loss: 0.0519\n",
            "Epoch 39/50\n",
            "60000/60000 [==============================] - 37s 623us/step - loss: 0.0505\n",
            "Epoch 40/50\n",
            "60000/60000 [==============================] - 37s 623us/step - loss: 0.0495\n",
            "Epoch 41/50\n",
            "60000/60000 [==============================] - 37s 623us/step - loss: 0.0482\n",
            "Epoch 42/50\n",
            "60000/60000 [==============================] - 37s 622us/step - loss: 0.0472\n",
            "Epoch 43/50\n",
            "60000/60000 [==============================] - 37s 623us/step - loss: 0.0464\n",
            "Epoch 44/50\n",
            "60000/60000 [==============================] - 37s 622us/step - loss: 0.0455\n",
            "Epoch 45/50\n",
            "60000/60000 [==============================] - 37s 622us/step - loss: 0.0448\n",
            "Epoch 46/50\n",
            "60000/60000 [==============================] - 37s 623us/step - loss: 0.0437\n",
            "Epoch 47/50\n",
            "60000/60000 [==============================] - 37s 623us/step - loss: 0.0428\n",
            "Epoch 48/50\n",
            "60000/60000 [==============================] - 37s 622us/step - loss: 0.0424\n",
            "Epoch 49/50\n",
            "60000/60000 [==============================] - 37s 622us/step - loss: 0.0417\n",
            "Epoch 50/50\n",
            "60000/60000 [==============================] - 37s 622us/step - loss: 0.0409\n"
          ],
          "name": "stdout"
        },
        {
          "output_type": "execute_result",
          "data": {
            "text/plain": [
              "<keras.callbacks.History at 0x7ff9eb2ae5c0>"
            ]
          },
          "metadata": {
            "tags": []
          },
          "execution_count": 25
        }
      ]
    },
    {
      "cell_type": "code",
      "metadata": {
        "trusted": true,
        "id": "pRJco6CyxLT3",
        "colab_type": "code",
        "colab": {}
      },
      "source": [
        "predicted2 = dnn.predict(x_test_noisy)"
      ],
      "execution_count": 0,
      "outputs": []
    },
    {
      "cell_type": "code",
      "metadata": {
        "id": "rpT4sS2tHgdF",
        "colab_type": "code",
        "trusted": true,
        "colab": {
          "base_uri": "https://localhost:8080/",
          "height": 252
        },
        "outputId": "52005b38-8c7d-4674-f417-9f2e211d50e4"
      },
      "source": [
        "plt.figure(figsize=(40, 4))\n",
        "for i in range(10):\n",
        "    # display original images\n",
        "    ax = plt.subplot(3, 20, i + 1)\n",
        "    plt.imshow(x_test[i].reshape(h, w))\n",
        "    plt.gray()\n",
        "    ax.get_xaxis().set_visible(False)\n",
        "    ax.get_yaxis().set_visible(False)\n",
        "    \n",
        "    # display noisy images\n",
        "    ax = plt.subplot(3, 20, i + 1 + 20)\n",
        "    plt.imshow(x_test_noisy[i].reshape(h, w))\n",
        "    plt.gray()\n",
        "    ax.get_xaxis().set_visible(False)\n",
        "    ax.get_yaxis().set_visible(False)\n",
        "    \n",
        "    # display reconstructed images\n",
        "    ax = plt.subplot(3, 20, 2 * 20 + i + 1)\n",
        "    plt.imshow(predicted2[i].reshape(h, w))\n",
        "    plt.gray()\n",
        "    ax.get_xaxis().set_visible(False)\n",
        "    ax.get_yaxis().set_visible(False)\n",
        "  \n",
        "    \n",
        "plt.show()"
      ],
      "execution_count": 27,
      "outputs": [
        {
          "output_type": "display_data",
          "data": {
            "image/png": "[encoded data removed]",
            "text/plain": [
              "<Figure size 2880x288 with 30 Axes>"
            ]
          },
          "metadata": {
            "tags": []
          }
        }
      ]
    }
  ]
}