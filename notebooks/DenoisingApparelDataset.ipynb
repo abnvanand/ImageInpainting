{
 "cells": [
  {
   "cell_type": "code",
   "execution_count": 1,
   "metadata": {
    "colab": {
     "base_uri": "https://localhost:8080/",
     "height": 34
    },
    "colab_type": "code",
    "id": "KHgph2DC2wL_",
    "outputId": "a070b85b-3381-4f1e-db35-799a8295575a"
   },
   "outputs": [
    {
     "name": "stderr",
     "output_type": "stream",
     "text": [
      "Using TensorFlow backend.\n"
     ]
    }
   ],
   "source": [
    "import keras\n",
    "from keras.datasets import mnist\n",
    "import numpy as np\n",
    "from keras.models import Sequential\n",
    "from keras.models import Model\n",
    "from keras.layers import Dense, InputLayer, Input\n",
    "import matplotlib.pyplot as plt"
   ]
  },
  {
   "cell_type": "code",
   "execution_count": 2,
   "metadata": {
    "colab": {
     "base_uri": "https://localhost:8080/",
     "height": 69
    },
    "colab_type": "code",
    "id": "ajxxjoFg25rP",
    "outputId": "c9a4e60e-5a8b-4c8d-cb8a-d9a6610146bf"
   },
   "outputs": [
    {
     "name": "stdout",
     "output_type": "stream",
     "text": [
      "Downloading data from https://s3.amazonaws.com/img-datasets/mnist.npz\n",
      "11493376/11490434 [==============================] - 0s 0us/step\n"
     ]
    },
    {
     "data": {
      "text/plain": [
       "((60000, 28, 28), (10000, 28, 28))"
      ]
     },
     "execution_count": 2,
     "metadata": {},
     "output_type": "execute_result"
    }
   ],
   "source": [
    "# data set of dim 28x28 greyscale images\n",
    "(x_train, _), (x_test, _) = mnist.load_data()\n",
    "\n",
    "# original dimensions of train & test datasets\n",
    "x_train.shape, x_test.shape"
   ]
  },
  {
   "cell_type": "code",
   "execution_count": 3,
   "metadata": {
    "colab": {
     "base_uri": "https://localhost:8080/",
     "height": 34
    },
    "colab_type": "code",
    "id": "rme7ZtzQ7KKe",
    "outputId": "52d27827-bfc5-43ee-e0a4-e76659bf8a9a"
   },
   "outputs": [
    {
     "data": {
      "text/plain": [
       "((60000, 28, 28, 1), (10000, 28, 28, 1))"
      ]
     },
     "execution_count": 3,
     "metadata": {},
     "output_type": "execute_result"
    }
   ],
   "source": [
    "# normalize to range [0,1]\n",
    "x_train = x_train.astype('float32') / 255.\n",
    "x_test = x_test.astype('float32') / 255.\n",
    "\n",
    "# Reshape to include channel in dimension\n",
    "# TODO: change channel to 3 when using RGB images\n",
    "x_train = np.reshape(x_train, (len(x_train), 28, 28, 1))  # by default uses `channels_last` image data format\n",
    "x_test = np.reshape(x_test, (len(x_test), 28, 28, 1))\n",
    "\n",
    "# Dimensions after including channel info\n",
    "x_train.shape, x_test.shape"
   ]
  },
  {
   "cell_type": "code",
   "execution_count": 4,
   "metadata": {
    "colab": {},
    "colab_type": "code",
    "id": "xqHXHIXZxLRr"
   },
   "outputs": [],
   "source": [
    "def add_noise(data, noise_factor = 0.5):\n",
    "    # add noise\n",
    "    res = data + noise_factor * np.random.normal(loc=0.0, scale=1.0, size=data.shape) \n",
    "\n",
    "    # clip to range\n",
    "    res = np.clip(res, 0., 1.)\n",
    "    return res\n",
    "\n",
    "x_train_noisy = add_noise(x_train)\n",
    "x_test_noisy = add_noise(x_test)"
   ]
  },
  {
   "cell_type": "code",
   "execution_count": 5,
   "metadata": {
    "colab": {},
    "colab_type": "code",
    "id": "B6cUiSqPxLR1"
   },
   "outputs": [],
   "source": [
    "def sigmoid(x, derivative=False):\n",
    "    sigm = 1. / (1. + np.exp(-x))\n",
    "    if derivative:\n",
    "        return sigm * (1. - sigm)\n",
    "    return sigm"
   ]
  },
  {
   "cell_type": "code",
   "execution_count": 6,
   "metadata": {
    "colab": {},
    "colab_type": "code",
    "id": "xWHk_XaAxLR9"
   },
   "outputs": [],
   "source": [
    "# KL Divergence regularizer for hidden unit activations\n",
    "import keras # if using keras\n",
    "import tensorflow as tf\n",
    "# from tensorflow import keras # if using tf.keras\n",
    "kullback_leibler_divergence = keras.losses.kullback_leibler_divergence\n",
    "K = keras.backend\n",
    "\n",
    "def kl_divergence_regularizer(activations):\n",
    "    rho_hat = K.mean(activations, axis=0)\n",
    "    nprho = np.full((rho_hat.get_shape().as_list()[0],) ,0.05)\n",
    "    rho = tf.convert_to_tensor(nprho, dtype=tf.float32)\n",
    "    return 0.01 * (kullback_leibler_divergence(rho, rho_hat)\n",
    "                 + kullback_leibler_divergence(1 - rho, 1 - rho_hat))"
   ]
  },
  {
   "cell_type": "code",
   "execution_count": 7,
   "metadata": {
    "colab": {
     "base_uri": "https://localhost:8080/",
     "height": 86
    },
    "colab_type": "code",
    "id": "m_Ik7X9b3414",
    "outputId": "c753e313-db5a-4f62-e335-c883bbf37896"
   },
   "outputs": [
    {
     "data": {
      "text/plain": [
       "((60000, 28, 28, 1),\n",
       " (60000, 28, 28, 1),\n",
       " (10000, 28, 28, 1),\n",
       " (10000, 28, 28, 1))"
      ]
     },
     "execution_count": 7,
     "metadata": {},
     "output_type": "execute_result"
    }
   ],
   "source": [
    "x_train.shape, x_train_noisy.shape, x_test.shape, x_test_noisy.shape"
   ]
  },
  {
   "cell_type": "code",
   "execution_count": 8,
   "metadata": {
    "colab": {
     "base_uri": "https://localhost:8080/",
     "height": 34
    },
    "colab_type": "code",
    "id": "rMS-xWKM96Af",
    "outputId": "c1fe7ba6-40be-4d9d-944b-87f73fed43c4"
   },
   "outputs": [
    {
     "data": {
      "text/plain": [
       "((60000, 784), (60000, 784), (10000, 784), (10000, 784))"
      ]
     },
     "execution_count": 8,
     "metadata": {},
     "output_type": "execute_result"
    }
   ],
   "source": [
    "# reshape(flatten) so that we can pass to neural network\n",
    "x_train = x_train.reshape(len(x_train), np.prod(x_train.shape[1:]))\n",
    "x_train_noisy = x_train_noisy.reshape(len(x_train_noisy), np.prod(x_train_noisy.shape[1:]))\n",
    "\n",
    "x_test = x_test.reshape(len(x_test), np.prod(x_test.shape[1:]))\n",
    "x_test_noisy = x_test_noisy.reshape(len(x_test_noisy), np.prod(x_test_noisy.shape[1:]))\n",
    "\n",
    "# shape after flattening\n",
    "x_train.shape, x_train_noisy.shape, x_test.shape, x_test_noisy.shape"
   ]
  },
  {
   "cell_type": "code",
   "execution_count": 9,
   "metadata": {
    "colab": {
     "base_uri": "https://localhost:8080/",
     "height": 194
    },
    "colab_type": "code",
    "id": "tKygyuHY3KxL",
    "outputId": "4da0b260-30e9-4f64-a469-2525d30af9b6"
   },
   "outputs": [
    {
     "data": {
      "image/png": "[encoded data removed]",
      "text/plain": [
       "<Figure size 1440x216 with 20 Axes>"
      ]
     },
     "metadata": {
      "needs_background": "light"
     },
     "output_type": "display_data"
    }
   ],
   "source": [
    "# print first 10 test images\n",
    "n = 10\n",
    "plt.figure(figsize=(20, 3))\n",
    "for i in range(n):\n",
    "    ax = plt.subplot(2, n, i+1)\n",
    "    plt.imshow(x_test[i].reshape(28, 28))\n",
    "    plt.gray()\n",
    "    ax.get_xaxis().set_visible(False)\n",
    "    ax.get_yaxis().set_visible(False)\n",
    "\n",
    "    ax = plt.subplot(2, n, i+1+10)\n",
    "    plt.imshow(x_test_noisy[i].reshape(28, 28))\n",
    "    plt.gray()\n",
    "    ax.get_xaxis().set_visible(False)\n",
    "    ax.get_yaxis().set_visible(False)\n",
    "    \n",
    "\n",
    "plt.show()"
   ]
  },
  {
   "cell_type": "code",
   "execution_count": 10,
   "metadata": {
    "colab": {
     "base_uri": "https://localhost:8080/",
     "height": 419
    },
    "colab_type": "code",
    "id": "rbCi29ic5hmp",
    "outputId": "d628793c-f3a6-462d-cd82-b885268e1204"
   },
   "outputs": [
    {
     "name": "stdout",
     "output_type": "stream",
     "text": [
      "_________________________________________________________________\n",
      "Layer (type)                 Output Shape              Param #   \n",
      "=================================================================\n",
      "input_1 (InputLayer)         (None, 784)               0         \n",
      "_________________________________________________________________\n",
      "dense_1 (Dense)              (None, 1568)              1230880   \n",
      "_________________________________________________________________\n",
      "dense_2 (Dense)              (None, 784)               1230096   \n",
      "=================================================================\n",
      "Total params: 2,460,976\n",
      "Trainable params: 2,460,976\n",
      "Non-trainable params: 0\n",
      "_________________________________________________________________\n"
     ]
    }
   ],
   "source": [
    "lambdaa = 0.0001\n",
    "input_layer = Input(shape=(784,))\n",
    "hidden_layer = Dense(units=2*784, activation='sigmoid', \n",
    "                    activity_regularizer=kl_divergence_regularizer,\n",
    "#                     kernel_regularizer=keras.regularizers.l2(lambdaa)\n",
    "                    )(input_layer)\n",
    "output_layer = Dense(units=784, activation='sigmoid',\n",
    "#                     kernel_regularizer=keras.regularizers.l2(lambdaa)\n",
    "                    )(hidden_layer)\n",
    "da1 = Model(input_layer, output_layer)\n",
    "da1.summary()"
   ]
  },
  {
   "cell_type": "code",
   "execution_count": 11,
   "metadata": {
    "colab": {
     "base_uri": "https://localhost:8080/",
     "height": 1000
    },
    "colab_type": "code",
    "id": "rTWPUubVCoNo",
    "outputId": "cbf49aff-eeed-4dde-dc74-5f38fdc89d55"
   },
   "outputs": [
    {
     "name": "stdout",
     "output_type": "stream",
     "text": [
      "Epoch 1/50\n",
      "60000/60000 [==============================] - 5s 79us/step - loss: 0.1494\n",
      "Epoch 2/50\n",
      "60000/60000 [==============================] - 2s 35us/step - loss: 0.0557\n",
      "Epoch 3/50\n",
      "60000/60000 [==============================] - 2s 36us/step - loss: 0.0419\n",
      "Epoch 4/50\n",
      "60000/60000 [==============================] - 2s 35us/step - loss: 0.0337\n",
      "Epoch 5/50\n",
      "60000/60000 [==============================] - 2s 36us/step - loss: 0.0288\n",
      "Epoch 6/50\n",
      "60000/60000 [==============================] - 2s 35us/step - loss: 0.0255\n",
      "Epoch 7/50\n",
      "60000/60000 [==============================] - 2s 35us/step - loss: 0.0232\n",
      "Epoch 8/50\n",
      "60000/60000 [==============================] - 2s 35us/step - loss: 0.0218\n",
      "Epoch 9/50\n",
      "60000/60000 [==============================] - 2s 35us/step - loss: 0.0205\n",
      "Epoch 10/50\n",
      "60000/60000 [==============================] - 2s 35us/step - loss: 0.0197\n",
      "Epoch 11/50\n",
      "60000/60000 [==============================] - 2s 36us/step - loss: 0.0189\n",
      "Epoch 12/50\n",
      "60000/60000 [==============================] - 2s 36us/step - loss: 0.0184\n",
      "Epoch 13/50\n",
      "60000/60000 [==============================] - 2s 36us/step - loss: 0.0179\n",
      "Epoch 14/50\n",
      "60000/60000 [==============================] - 2s 34us/step - loss: 0.0174\n",
      "Epoch 15/50\n",
      "60000/60000 [==============================] - 2s 35us/step - loss: 0.0170\n",
      "Epoch 16/50\n",
      "60000/60000 [==============================] - 2s 34us/step - loss: 0.0168\n",
      "Epoch 17/50\n",
      "60000/60000 [==============================] - 2s 36us/step - loss: 0.0165\n",
      "Epoch 18/50\n",
      "60000/60000 [==============================] - 2s 35us/step - loss: 0.0162\n",
      "Epoch 19/50\n",
      "60000/60000 [==============================] - 2s 35us/step - loss: 0.0159\n",
      "Epoch 20/50\n",
      "60000/60000 [==============================] - 2s 35us/step - loss: 0.0158\n",
      "Epoch 21/50\n",
      "60000/60000 [==============================] - 2s 35us/step - loss: 0.0157\n",
      "Epoch 22/50\n",
      "60000/60000 [==============================] - 2s 35us/step - loss: 0.0155\n",
      "Epoch 23/50\n",
      "60000/60000 [==============================] - 2s 35us/step - loss: 0.0153\n",
      "Epoch 24/50\n",
      "60000/60000 [==============================] - 2s 35us/step - loss: 0.0151\n",
      "Epoch 25/50\n",
      "60000/60000 [==============================] - 2s 35us/step - loss: 0.0151\n",
      "Epoch 26/50\n",
      "60000/60000 [==============================] - 2s 34us/step - loss: 0.0150\n",
      "Epoch 27/50\n",
      "60000/60000 [==============================] - 2s 35us/step - loss: 0.0149\n",
      "Epoch 28/50\n",
      "60000/60000 [==============================] - 2s 35us/step - loss: 0.0148\n",
      "Epoch 29/50\n",
      "60000/60000 [==============================] - 2s 34us/step - loss: 0.0145\n",
      "Epoch 30/50\n",
      "60000/60000 [==============================] - 2s 35us/step - loss: 0.0144\n",
      "Epoch 31/50\n",
      "60000/60000 [==============================] - 2s 35us/step - loss: 0.0144\n",
      "Epoch 32/50\n",
      "60000/60000 [==============================] - 2s 36us/step - loss: 0.0143\n",
      "Epoch 33/50\n",
      "60000/60000 [==============================] - 2s 35us/step - loss: 0.0142\n",
      "Epoch 34/50\n",
      "60000/60000 [==============================] - 2s 35us/step - loss: 0.0142\n",
      "Epoch 35/50\n",
      "60000/60000 [==============================] - 2s 36us/step - loss: 0.0141\n",
      "Epoch 36/50\n",
      "60000/60000 [==============================] - 2s 35us/step - loss: 0.0140\n",
      "Epoch 37/50\n",
      "60000/60000 [==============================] - 2s 35us/step - loss: 0.0139\n",
      "Epoch 38/50\n",
      "60000/60000 [==============================] - 2s 34us/step - loss: 0.0138\n",
      "Epoch 39/50\n",
      "60000/60000 [==============================] - 2s 35us/step - loss: 0.0137\n",
      "Epoch 40/50\n",
      "60000/60000 [==============================] - 2s 35us/step - loss: 0.0137\n",
      "Epoch 41/50\n",
      "60000/60000 [==============================] - 2s 35us/step - loss: 0.0137\n",
      "Epoch 42/50\n",
      "60000/60000 [==============================] - 2s 35us/step - loss: 0.0136\n",
      "Epoch 43/50\n",
      "60000/60000 [==============================] - 2s 35us/step - loss: 0.0134\n",
      "Epoch 44/50\n",
      "60000/60000 [==============================] - 2s 34us/step - loss: 0.0135\n",
      "Epoch 45/50\n",
      "60000/60000 [==============================] - 2s 35us/step - loss: 0.0134\n",
      "Epoch 46/50\n",
      "60000/60000 [==============================] - 2s 34us/step - loss: 0.0135\n",
      "Epoch 47/50\n",
      "60000/60000 [==============================] - 2s 35us/step - loss: 0.0134\n",
      "Epoch 48/50\n",
      "60000/60000 [==============================] - 2s 35us/step - loss: 0.0133\n",
      "Epoch 49/50\n",
      "60000/60000 [==============================] - 2s 35us/step - loss: 0.0132\n",
      "Epoch 50/50\n",
      "60000/60000 [==============================] - 2s 35us/step - loss: 0.0132\n"
     ]
    },
    {
     "data": {
      "text/plain": [
       "<keras.callbacks.History at 0x7f262eaeea58>"
      ]
     },
     "execution_count": 11,
     "metadata": {},
     "output_type": "execute_result"
    }
   ],
   "source": [
    "da1.compile('adam', loss='mse')\n",
    "da1.fit(x_train_noisy, x_train,\n",
    "                epochs=50,\n",
    "                batch_size=120,\n",
    "                shuffle=True)"
   ]
  },
  {
   "cell_type": "code",
   "execution_count": 12,
   "metadata": {
    "colab": {},
    "colab_type": "code",
    "id": "VaixZWNcHOK7"
   },
   "outputs": [],
   "source": [
    "predicted = da1.predict(x_test_noisy)"
   ]
  },
  {
   "cell_type": "code",
   "execution_count": 13,
   "metadata": {
    "colab": {
     "base_uri": "https://localhost:8080/",
     "height": 248
    },
    "colab_type": "code",
    "id": "NoBtOjFTxLSv",
    "outputId": "a9e74319-a39f-4cb2-f8ed-38a6f8514450"
   },
   "outputs": [
    {
     "data": {
      "image/png": "[encoded data removed]",
      "text/plain": [
       "<Figure size 2880x288 with 30 Axes>"
      ]
     },
     "metadata": {
      "needs_background": "light"
     },
     "output_type": "display_data"
    }
   ],
   "source": [
    "plt.figure(figsize=(40, 4))\n",
    "for i in range(10):\n",
    "    # display original images\n",
    "    ax = plt.subplot(3, 20, i + 1)\n",
    "    plt.imshow(x_test[i].reshape(28, 28))\n",
    "    plt.gray()\n",
    "    ax.get_xaxis().set_visible(False)\n",
    "    ax.get_yaxis().set_visible(False)\n",
    "    \n",
    "    # display noisy images\n",
    "    ax = plt.subplot(3, 20, i + 1 + 20)\n",
    "    plt.imshow(x_test_noisy[i].reshape(28,28))\n",
    "    plt.gray()\n",
    "    ax.get_xaxis().set_visible(False)\n",
    "    ax.get_yaxis().set_visible(False)\n",
    "    \n",
    "    # display reconstructed images\n",
    "    ax = plt.subplot(3, 20, 2*20 +i+ 1)\n",
    "    plt.imshow(predicted[i].reshape(28, 28))\n",
    "    plt.gray()\n",
    "    ax.get_xaxis().set_visible(False)\n",
    "    ax.get_yaxis().set_visible(False)\n",
    "\n",
    "\n",
    "plt.show()"
   ]
  },
  {
   "cell_type": "code",
   "execution_count": 14,
   "metadata": {
    "colab": {},
    "colab_type": "code",
    "id": "lcc_MLB1xLS8"
   },
   "outputs": [],
   "source": [
    "import pandas as pd\n",
    "\n",
    "hiddenLayerWeights = pd.DataFrame(da1.layers[1].get_weights()[0]).values\n",
    "hiddenLayerBias = pd.DataFrame(da1.layers[1].get_weights()[1]).values\n",
    "hiddenLayerWeights.shape, type(hiddenLayerWeights), hiddenLayerBias.shape, type(hiddenLayerBias)\n",
    "\n",
    "Wx = np.dot(x_train_noisy, hiddenLayerWeights)\n",
    "b =  hiddenLayerBias.T\n",
    "hX = sigmoid(Wx+b)\n",
    "\n",
    "Wy = np.dot(x_train, hiddenLayerWeights)\n",
    "hY = sigmoid(Wy + b)"
   ]
  },
  {
   "cell_type": "code",
   "execution_count": 15,
   "metadata": {
    "colab": {
     "base_uri": "https://localhost:8080/",
     "height": 34
    },
    "colab_type": "code",
    "id": "3gDT6MMTxLTB",
    "outputId": "42d61da9-4748-4b2f-a074-bacc75351268"
   },
   "outputs": [
    {
     "data": {
      "text/plain": [
       "((60000, 1568), (60000, 1568))"
      ]
     },
     "execution_count": 15,
     "metadata": {},
     "output_type": "execute_result"
    }
   ],
   "source": [
    "hX.shape, hY.shape"
   ]
  },
  {
   "cell_type": "code",
   "execution_count": 16,
   "metadata": {
    "colab": {
     "base_uri": "https://localhost:8080/",
     "height": 243
    },
    "colab_type": "code",
    "id": "cS7AVyZ8xLTG",
    "outputId": "cdfadb9e-56bb-4ae1-883a-e84afe03c2a4"
   },
   "outputs": [
    {
     "name": "stdout",
     "output_type": "stream",
     "text": [
      "_________________________________________________________________\n",
      "Layer (type)                 Output Shape              Param #   \n",
      "=================================================================\n",
      "input_2 (InputLayer)         (None, 1568)              0         \n",
      "_________________________________________________________________\n",
      "dense_3 (Dense)              (None, 3136)              4920384   \n",
      "_________________________________________________________________\n",
      "dense_4 (Dense)              (None, 1568)              4918816   \n",
      "=================================================================\n",
      "Total params: 9,839,200\n",
      "Trainable params: 9,839,200\n",
      "Non-trainable params: 0\n",
      "_________________________________________________________________\n"
     ]
    }
   ],
   "source": [
    "input_layer2 = Input(shape=(2*784,))\n",
    "hidden_layer2 = Dense(units=2*2*784, activation='sigmoid',\n",
    "                    activity_regularizer=kl_divergence_regularizer,\n",
    "#                     kernel_regularizer=keras.regularizers.l2(lambdaa)\n",
    "                    )(input_layer2)\n",
    "output_layer2 = Dense(units=2*784, activation='sigmoid',\n",
    "#                     kernel_regularizer=keras.regularizers.l2(lambdaa)\n",
    "                    )(hidden_layer2)\n",
    "da2 = Model(input_layer2, output_layer2)\n",
    "da2.summary()"
   ]
  },
  {
   "cell_type": "code",
   "execution_count": 17,
   "metadata": {
    "colab": {
     "base_uri": "https://localhost:8080/",
     "height": 1000
    },
    "colab_type": "code",
    "id": "xmXFDx_jxLTN",
    "outputId": "4c193462-bdea-4b1a-fde0-3dcfd58fabed"
   },
   "outputs": [
    {
     "name": "stdout",
     "output_type": "stream",
     "text": [
      "Epoch 1/50\n",
      "60000/60000 [==============================] - 4s 69us/step - loss: 0.4183\n",
      "Epoch 2/50\n",
      "60000/60000 [==============================] - 3s 58us/step - loss: 0.0227\n",
      "Epoch 3/50\n",
      "60000/60000 [==============================] - 3s 58us/step - loss: 0.0222\n",
      "Epoch 4/50\n",
      "60000/60000 [==============================] - 3s 58us/step - loss: 0.0211\n",
      "Epoch 5/50\n",
      "60000/60000 [==============================] - 3s 58us/step - loss: 0.0186\n",
      "Epoch 6/50\n",
      "60000/60000 [==============================] - 3s 58us/step - loss: 0.0159\n",
      "Epoch 7/50\n",
      "60000/60000 [==============================] - 4s 65us/step - loss: 0.0141\n",
      "Epoch 8/50\n",
      "60000/60000 [==============================] - 4s 58us/step - loss: 0.0128\n",
      "Epoch 9/50\n",
      "60000/60000 [==============================] - 3s 58us/step - loss: 0.0115\n",
      "Epoch 10/50\n",
      "60000/60000 [==============================] - 3s 58us/step - loss: 0.0107\n",
      "Epoch 11/50\n",
      "60000/60000 [==============================] - 3s 58us/step - loss: 0.0100\n",
      "Epoch 12/50\n",
      "60000/60000 [==============================] - 3s 58us/step - loss: 0.0094\n",
      "Epoch 13/50\n",
      "60000/60000 [==============================] - 3s 58us/step - loss: 0.0086\n",
      "Epoch 14/50\n",
      "60000/60000 [==============================] - 3s 58us/step - loss: 0.0086\n",
      "Epoch 15/50\n",
      "60000/60000 [==============================] - 3s 58us/step - loss: 0.0084\n",
      "Epoch 16/50\n",
      "60000/60000 [==============================] - 3s 57us/step - loss: 0.0079\n",
      "Epoch 17/50\n",
      "60000/60000 [==============================] - 3s 58us/step - loss: 0.0079\n",
      "Epoch 18/50\n",
      "60000/60000 [==============================] - 3s 58us/step - loss: 0.0080\n",
      "Epoch 19/50\n",
      "60000/60000 [==============================] - 3s 57us/step - loss: 0.0077\n",
      "Epoch 20/50\n",
      "60000/60000 [==============================] - 3s 58us/step - loss: 0.0072\n",
      "Epoch 21/50\n",
      "60000/60000 [==============================] - 3s 58us/step - loss: 0.0074\n",
      "Epoch 22/50\n",
      "60000/60000 [==============================] - 3s 58us/step - loss: 0.0074\n",
      "Epoch 23/50\n",
      "60000/60000 [==============================] - 3s 58us/step - loss: 0.0070\n",
      "Epoch 24/50\n",
      "60000/60000 [==============================] - 3s 58us/step - loss: 0.0069\n",
      "Epoch 25/50\n",
      "60000/60000 [==============================] - 3s 58us/step - loss: 0.0067\n",
      "Epoch 26/50\n",
      "60000/60000 [==============================] - 3s 58us/step - loss: 0.0070\n",
      "Epoch 27/50\n",
      "60000/60000 [==============================] - 3s 57us/step - loss: 0.0067\n",
      "Epoch 28/50\n",
      "60000/60000 [==============================] - 3s 58us/step - loss: 0.0065\n",
      "Epoch 29/50\n",
      "60000/60000 [==============================] - 3s 58us/step - loss: 0.0065\n",
      "Epoch 30/50\n",
      "60000/60000 [==============================] - 3s 58us/step - loss: 0.0064\n",
      "Epoch 31/50\n",
      "60000/60000 [==============================] - 3s 58us/step - loss: 0.0066\n",
      "Epoch 32/50\n",
      "60000/60000 [==============================] - 4s 59us/step - loss: 0.0064\n",
      "Epoch 33/50\n",
      "60000/60000 [==============================] - 3s 58us/step - loss: 0.0066\n",
      "Epoch 34/50\n",
      "60000/60000 [==============================] - 4s 59us/step - loss: 0.0064\n",
      "Epoch 35/50\n",
      "60000/60000 [==============================] - 4s 59us/step - loss: 0.0064\n",
      "Epoch 36/50\n",
      "60000/60000 [==============================] - 4s 59us/step - loss: 0.0061\n",
      "Epoch 37/50\n",
      "60000/60000 [==============================] - 3s 58us/step - loss: 0.0063\n",
      "Epoch 38/50\n",
      "60000/60000 [==============================] - 3s 57us/step - loss: 0.0061\n",
      "Epoch 39/50\n",
      "60000/60000 [==============================] - 3s 58us/step - loss: 0.0059\n",
      "Epoch 40/50\n",
      "60000/60000 [==============================] - 3s 58us/step - loss: 0.0063\n",
      "Epoch 41/50\n",
      "60000/60000 [==============================] - 3s 58us/step - loss: 0.0061\n",
      "Epoch 42/50\n",
      "60000/60000 [==============================] - 3s 58us/step - loss: 0.0060\n",
      "Epoch 43/50\n",
      "60000/60000 [==============================] - 3s 58us/step - loss: 0.0061\n",
      "Epoch 44/50\n",
      "60000/60000 [==============================] - 3s 57us/step - loss: 0.0061\n",
      "Epoch 45/50\n",
      "60000/60000 [==============================] - 3s 58us/step - loss: 0.0058\n",
      "Epoch 46/50\n",
      "60000/60000 [==============================] - 3s 57us/step - loss: 0.0059\n",
      "Epoch 47/50\n",
      "60000/60000 [==============================] - 3s 57us/step - loss: 0.0058\n",
      "Epoch 48/50\n",
      "60000/60000 [==============================] - 3s 57us/step - loss: 0.0059\n",
      "Epoch 49/50\n",
      "60000/60000 [==============================] - 3s 58us/step - loss: 0.0059\n",
      "Epoch 50/50\n",
      "60000/60000 [==============================] - 3s 58us/step - loss: 0.0058\n"
     ]
    },
    {
     "data": {
      "text/plain": [
       "<keras.callbacks.History at 0x7f262b53ee48>"
      ]
     },
     "execution_count": 17,
     "metadata": {},
     "output_type": "execute_result"
    }
   ],
   "source": [
    "da2.compile(optimizer='adam', loss='mse')\n",
    "da2.fit(hX, hY,\n",
    "                epochs=50,\n",
    "                batch_size=120,\n",
    "                shuffle=True)"
   ]
  },
  {
   "cell_type": "code",
   "execution_count": 18,
   "metadata": {
    "colab": {},
    "colab_type": "code",
    "id": "3hxZMlUtxLTU"
   },
   "outputs": [],
   "source": [
    "# Extract weights\n",
    "W1, B1 = da1.layers[1].get_weights()\n",
    "W1_dash, B1_dash = da1.layers[2].get_weights()\n",
    "\n",
    "W2, B2 = da2.layers[1].get_weights()\n",
    "W2_dash, B2_dash = da2.layers[2].get_weights()\n"
   ]
  },
  {
   "cell_type": "code",
   "execution_count": 19,
   "metadata": {
    "colab": {
     "base_uri": "https://localhost:8080/",
     "height": 34
    },
    "colab_type": "code",
    "id": "KgDIkqQ0xLTa",
    "outputId": "b574e969-93d8-45d2-cb85-7b03882fe9b8"
   },
   "outputs": [
    {
     "data": {
      "text/plain": [
       "((784, 1568), (1568, 3136), (3136, 1568), (1568, 784))"
      ]
     },
     "execution_count": 19,
     "metadata": {},
     "output_type": "execute_result"
    }
   ],
   "source": [
    "W1.shape, W2.shape, W2_dash.shape, W1_dash.shape\n",
    "# B1.shape, B2.shape, B2_dash.shape, B1_dash.shape\n",
    "# len(B1), len(B2), len(B2_dash), len(B1_dash)"
   ]
  },
  {
   "cell_type": "code",
   "execution_count": 20,
   "metadata": {
    "colab": {
     "base_uri": "https://localhost:8080/",
     "height": 312
    },
    "colab_type": "code",
    "id": "aKoJnwwjxLTk",
    "outputId": "fc7921e8-e94a-4398-f8f5-f3183d4dff54"
   },
   "outputs": [
    {
     "name": "stdout",
     "output_type": "stream",
     "text": [
      "_________________________________________________________________\n",
      "Layer (type)                 Output Shape              Param #   \n",
      "=================================================================\n",
      "input_3 (InputLayer)         (None, 784)               0         \n",
      "_________________________________________________________________\n",
      "dense_5 (Dense)              (None, 1568)              1230880   \n",
      "_________________________________________________________________\n",
      "dense_6 (Dense)              (None, 3136)              4920384   \n",
      "_________________________________________________________________\n",
      "dense_7 (Dense)              (None, 1568)              4918816   \n",
      "_________________________________________________________________\n",
      "dense_8 (Dense)              (None, 784)               1230096   \n",
      "=================================================================\n",
      "Total params: 12,300,176\n",
      "Trainable params: 12,300,176\n",
      "Non-trainable params: 0\n",
      "_________________________________________________________________\n"
     ]
    }
   ],
   "source": [
    "lambdaa = 0.0001\n",
    "input_layer = Input(shape=(W1.shape[0],))\n",
    "h1 = Dense(units=W1.shape[1], activation='sigmoid', \n",
    "#                     kernel_regularizer=keras.regularizers.l2(lambdaa)\n",
    "                    )(input_layer)\n",
    "h2 = Dense(units=W2.shape[1], activation='sigmoid', \n",
    "#                     kernel_regularizer=keras.regularizers.l2(lambdaa)\n",
    "                    )(h1)\n",
    "h3 = Dense(units=W2_dash.shape[1], activation='sigmoid', \n",
    "#                     kernel_regularizer=keras.regularizers.l2(lambdaa)\n",
    "                    )(h2)\n",
    "output_layer = Dense(units=W1_dash.shape[1], activation='sigmoid',\n",
    "#                     kernel_regularizer=keras.regularizers.l2(lambdaa)\n",
    "                    )(h3)\n",
    "\n",
    "dnn = Model(input_layer, output_layer)\n",
    "\n",
    "# Initialize with pretrained weights\n",
    "B1 = np.random.uniform(0,1,B1.shape)\n",
    "B2 = np.random.uniform(0,1,B2.shape)\n",
    "B1_dash = np.random.uniform(0,1,B1_dash.shape)\n",
    "B2_dash = np.random.uniform(0,1,B2_dash.shape)\n",
    "\n",
    "dnn.layers[1].set_weights([W1, B1])\n",
    "dnn.layers[2].set_weights([W2, B2])\n",
    "dnn.layers[3].set_weights([W2_dash, B2_dash])\n",
    "dnn.layers[4].set_weights([W1_dash, B1_dash])\n",
    "\n",
    "dnn.summary()"
   ]
  },
  {
   "cell_type": "code",
   "execution_count": 21,
   "metadata": {
    "colab": {},
    "colab_type": "code",
    "id": "mK-iQZ-sxLTr"
   },
   "outputs": [],
   "source": [
    "# x_sample = x_train[0].reshape(28, 28)\n",
    "# plt.imshow(x_sample, interpolation='nearest')\n",
    "# plt.show()"
   ]
  },
  {
   "cell_type": "code",
   "execution_count": 22,
   "metadata": {
    "colab": {
     "base_uri": "https://localhost:8080/",
     "height": 1000
    },
    "colab_type": "code",
    "id": "7op-3od7xLTw",
    "outputId": "d9e26caf-470a-48f8-cddc-e0222f58e404"
   },
   "outputs": [
    {
     "name": "stdout",
     "output_type": "stream",
     "text": [
      "Epoch 1/100\n",
      "60000/60000 [==============================] - 4s 75us/step - loss: 0.0146\n",
      "Epoch 2/100\n",
      "60000/60000 [==============================] - 4s 62us/step - loss: 0.0111\n",
      "Epoch 3/100\n",
      "60000/60000 [==============================] - 4s 62us/step - loss: 0.0106\n",
      "Epoch 4/100\n",
      "60000/60000 [==============================] - 4s 62us/step - loss: 0.0103\n",
      "Epoch 5/100\n",
      "60000/60000 [==============================] - 4s 62us/step - loss: 0.0099\n",
      "Epoch 6/100\n",
      "60000/60000 [==============================] - 4s 62us/step - loss: 0.0096\n",
      "Epoch 7/100\n",
      "60000/60000 [==============================] - 4s 62us/step - loss: 0.0093\n",
      "Epoch 8/100\n",
      "60000/60000 [==============================] - 4s 62us/step - loss: 0.0090\n",
      "Epoch 9/100\n",
      "60000/60000 [==============================] - 4s 62us/step - loss: 0.0087\n",
      "Epoch 10/100\n",
      "60000/60000 [==============================] - 4s 63us/step - loss: 0.0084\n",
      "Epoch 11/100\n",
      "60000/60000 [==============================] - 4s 62us/step - loss: 0.0082\n",
      "Epoch 12/100\n",
      "60000/60000 [==============================] - 4s 62us/step - loss: 0.0079\n",
      "Epoch 13/100\n",
      "60000/60000 [==============================] - 4s 62us/step - loss: 0.0077\n",
      "Epoch 14/100\n",
      "60000/60000 [==============================] - 4s 62us/step - loss: 0.0074\n",
      "Epoch 15/100\n",
      "60000/60000 [==============================] - 4s 62us/step - loss: 0.0072\n",
      "Epoch 16/100\n",
      "60000/60000 [==============================] - 4s 62us/step - loss: 0.0070\n",
      "Epoch 17/100\n",
      "60000/60000 [==============================] - 4s 62us/step - loss: 0.0068\n",
      "Epoch 18/100\n",
      "60000/60000 [==============================] - 4s 62us/step - loss: 0.0066\n",
      "Epoch 19/100\n",
      "60000/60000 [==============================] - 4s 62us/step - loss: 0.0064\n",
      "Epoch 20/100\n",
      "60000/60000 [==============================] - 4s 62us/step - loss: 0.0062\n",
      "Epoch 21/100\n",
      "60000/60000 [==============================] - 4s 62us/step - loss: 0.0061\n",
      "Epoch 22/100\n",
      "60000/60000 [==============================] - 4s 62us/step - loss: 0.0059\n",
      "Epoch 23/100\n",
      "60000/60000 [==============================] - 4s 62us/step - loss: 0.0058\n",
      "Epoch 24/100\n",
      "60000/60000 [==============================] - 4s 62us/step - loss: 0.0056\n",
      "Epoch 25/100\n",
      "60000/60000 [==============================] - 4s 62us/step - loss: 0.0055\n",
      "Epoch 26/100\n",
      "60000/60000 [==============================] - 4s 62us/step - loss: 0.0054\n",
      "Epoch 27/100\n",
      "60000/60000 [==============================] - 4s 62us/step - loss: 0.0052\n",
      "Epoch 28/100\n",
      "60000/60000 [==============================] - 4s 62us/step - loss: 0.0051\n",
      "Epoch 29/100\n",
      "60000/60000 [==============================] - 4s 62us/step - loss: 0.0050\n",
      "Epoch 30/100\n",
      "60000/60000 [==============================] - 4s 62us/step - loss: 0.0049\n",
      "Epoch 31/100\n",
      "60000/60000 [==============================] - 4s 62us/step - loss: 0.0048\n",
      "Epoch 32/100\n",
      "60000/60000 [==============================] - 4s 62us/step - loss: 0.0047\n",
      "Epoch 33/100\n",
      "60000/60000 [==============================] - 4s 62us/step - loss: 0.0046\n",
      "Epoch 34/100\n",
      "60000/60000 [==============================] - 4s 62us/step - loss: 0.0045\n",
      "Epoch 35/100\n",
      "60000/60000 [==============================] - 4s 62us/step - loss: 0.0044\n",
      "Epoch 36/100\n",
      "60000/60000 [==============================] - 4s 62us/step - loss: 0.0043\n",
      "Epoch 37/100\n",
      "60000/60000 [==============================] - 4s 62us/step - loss: 0.0043\n",
      "Epoch 38/100\n",
      "60000/60000 [==============================] - 4s 62us/step - loss: 0.0042\n",
      "Epoch 39/100\n",
      "60000/60000 [==============================] - 4s 62us/step - loss: 0.0041\n",
      "Epoch 40/100\n",
      "60000/60000 [==============================] - 4s 66us/step - loss: 0.0040\n",
      "Epoch 41/100\n",
      "60000/60000 [==============================] - 4s 63us/step - loss: 0.0039\n",
      "Epoch 42/100\n",
      "60000/60000 [==============================] - 4s 62us/step - loss: 0.0039\n",
      "Epoch 43/100\n",
      "60000/60000 [==============================] - 4s 62us/step - loss: 0.0038\n",
      "Epoch 44/100\n",
      "60000/60000 [==============================] - 4s 62us/step - loss: 0.0037\n",
      "Epoch 45/100\n",
      "60000/60000 [==============================] - 4s 61us/step - loss: 0.0036\n",
      "Epoch 46/100\n",
      "60000/60000 [==============================] - 4s 62us/step - loss: 0.0036\n",
      "Epoch 47/100\n",
      "60000/60000 [==============================] - 4s 62us/step - loss: 0.0035\n",
      "Epoch 48/100\n",
      "60000/60000 [==============================] - 4s 62us/step - loss: 0.0034\n",
      "Epoch 49/100\n",
      "60000/60000 [==============================] - 4s 62us/step - loss: 0.0034\n",
      "Epoch 50/100\n",
      "60000/60000 [==============================] - 4s 62us/step - loss: 0.0033\n",
      "Epoch 51/100\n",
      "60000/60000 [==============================] - 4s 62us/step - loss: 0.0032\n",
      "Epoch 52/100\n",
      "60000/60000 [==============================] - 4s 62us/step - loss: 0.0032\n",
      "Epoch 53/100\n",
      "60000/60000 [==============================] - 4s 61us/step - loss: 0.0031\n",
      "Epoch 54/100\n",
      "60000/60000 [==============================] - 4s 62us/step - loss: 0.0031\n",
      "Epoch 55/100\n",
      "60000/60000 [==============================] - 4s 62us/step - loss: 0.0030\n",
      "Epoch 56/100\n",
      "60000/60000 [==============================] - 4s 62us/step - loss: 0.0029\n",
      "Epoch 57/100\n",
      "60000/60000 [==============================] - 4s 62us/step - loss: 0.0029\n",
      "Epoch 58/100\n",
      "60000/60000 [==============================] - 4s 62us/step - loss: 0.0028\n",
      "Epoch 59/100\n",
      "60000/60000 [==============================] - 4s 62us/step - loss: 0.0028\n",
      "Epoch 60/100\n",
      "60000/60000 [==============================] - 4s 62us/step - loss: 0.0027\n",
      "Epoch 61/100\n",
      "60000/60000 [==============================] - 4s 62us/step - loss: 0.0027\n",
      "Epoch 62/100\n",
      "60000/60000 [==============================] - 4s 62us/step - loss: 0.0026\n",
      "Epoch 63/100\n",
      "60000/60000 [==============================] - 4s 63us/step - loss: 0.0026\n",
      "Epoch 64/100\n",
      "60000/60000 [==============================] - 4s 62us/step - loss: 0.0026\n",
      "Epoch 65/100\n",
      "60000/60000 [==============================] - 4s 62us/step - loss: 0.0025\n",
      "Epoch 66/100\n",
      "60000/60000 [==============================] - 4s 62us/step - loss: 0.0025\n",
      "Epoch 67/100\n",
      "60000/60000 [==============================] - 4s 61us/step - loss: 0.0024\n",
      "Epoch 68/100\n",
      "60000/60000 [==============================] - 4s 63us/step - loss: 0.0024\n",
      "Epoch 69/100\n",
      "60000/60000 [==============================] - 4s 63us/step - loss: 0.0023\n",
      "Epoch 70/100\n",
      "60000/60000 [==============================] - 4s 63us/step - loss: 0.0023\n",
      "Epoch 71/100\n",
      "60000/60000 [==============================] - 4s 62us/step - loss: 0.0023\n",
      "Epoch 72/100\n",
      "60000/60000 [==============================] - 4s 62us/step - loss: 0.0022\n",
      "Epoch 73/100\n",
      "60000/60000 [==============================] - 4s 62us/step - loss: 0.0022\n",
      "Epoch 74/100\n",
      "60000/60000 [==============================] - 4s 62us/step - loss: 0.0022\n",
      "Epoch 75/100\n",
      "60000/60000 [==============================] - 4s 61us/step - loss: 0.0021\n",
      "Epoch 76/100\n",
      "60000/60000 [==============================] - 4s 62us/step - loss: 0.0021\n",
      "Epoch 77/100\n",
      "60000/60000 [==============================] - 4s 61us/step - loss: 0.0021\n",
      "Epoch 78/100\n",
      "60000/60000 [==============================] - 4s 62us/step - loss: 0.0020\n",
      "Epoch 79/100\n",
      "60000/60000 [==============================] - 4s 62us/step - loss: 0.0020\n",
      "Epoch 80/100\n",
      "60000/60000 [==============================] - 4s 61us/step - loss: 0.0020\n",
      "Epoch 81/100\n",
      "60000/60000 [==============================] - 4s 62us/step - loss: 0.0019\n",
      "Epoch 82/100\n",
      "60000/60000 [==============================] - 4s 62us/step - loss: 0.0019\n",
      "Epoch 83/100\n",
      "60000/60000 [==============================] - 4s 62us/step - loss: 0.0019\n",
      "Epoch 84/100\n",
      "60000/60000 [==============================] - 4s 62us/step - loss: 0.0019\n",
      "Epoch 85/100\n",
      "60000/60000 [==============================] - 4s 62us/step - loss: 0.0018\n",
      "Epoch 86/100\n",
      "60000/60000 [==============================] - 4s 62us/step - loss: 0.0018\n",
      "Epoch 87/100\n",
      "60000/60000 [==============================] - 4s 62us/step - loss: 0.0018\n",
      "Epoch 88/100\n",
      "60000/60000 [==============================] - 4s 62us/step - loss: 0.0017\n",
      "Epoch 89/100\n",
      "60000/60000 [==============================] - 4s 62us/step - loss: 0.0017\n",
      "Epoch 90/100\n",
      "60000/60000 [==============================] - 4s 62us/step - loss: 0.0017\n",
      "Epoch 91/100\n",
      "60000/60000 [==============================] - 4s 62us/step - loss: 0.0017\n",
      "Epoch 92/100\n",
      "60000/60000 [==============================] - 4s 63us/step - loss: 0.0017\n",
      "Epoch 93/100\n",
      "60000/60000 [==============================] - 4s 62us/step - loss: 0.0016\n",
      "Epoch 94/100\n",
      "60000/60000 [==============================] - 4s 62us/step - loss: 0.0016\n",
      "Epoch 95/100\n",
      "60000/60000 [==============================] - 4s 62us/step - loss: 0.0016\n",
      "Epoch 96/100\n",
      "60000/60000 [==============================] - 4s 62us/step - loss: 0.0016\n",
      "Epoch 97/100\n",
      "60000/60000 [==============================] - 4s 62us/step - loss: 0.0016\n",
      "Epoch 98/100\n",
      "60000/60000 [==============================] - 4s 62us/step - loss: 0.0015\n",
      "Epoch 99/100\n",
      "60000/60000 [==============================] - 4s 62us/step - loss: 0.0015\n",
      "Epoch 100/100\n",
      "60000/60000 [==============================] - 4s 62us/step - loss: 0.0015\n"
     ]
    },
    {
     "data": {
      "text/plain": [
       "<keras.callbacks.History at 0x7f262b53e5f8>"
      ]
     },
     "execution_count": 22,
     "metadata": {},
     "output_type": "execute_result"
    }
   ],
   "source": [
    "dnn.compile('adam', loss='mse')\n",
    "dnn.fit(x_train_noisy, x_train,\n",
    "                epochs=100,\n",
    "                batch_size=120,\n",
    "                shuffle=True)"
   ]
  },
  {
   "cell_type": "code",
   "execution_count": 23,
   "metadata": {
    "colab": {},
    "colab_type": "code",
    "id": "pRJco6CyxLT3"
   },
   "outputs": [],
   "source": [
    "predicted2 = dnn.predict(x_test_noisy)"
   ]
  },
  {
   "cell_type": "code",
   "execution_count": 24,
   "metadata": {
    "colab": {
     "base_uri": "https://localhost:8080/",
     "height": 248
    },
    "colab_type": "code",
    "id": "rpT4sS2tHgdF",
    "outputId": "91e4c312-8f85-4cb1-e9f1-0c12d61db3d5"
   },
   "outputs": [
    {
     "data": {
      "image/png": "[encoded data removed]",
      "text/plain": [
       "<Figure size 2880x288 with 30 Axes>"
      ]
     },
     "metadata": {
      "needs_background": "light"
     },
     "output_type": "display_data"
    }
   ],
   "source": [
    "plt.figure(figsize=(40, 4))\n",
    "for i in range(10):\n",
    "    # display original images\n",
    "    ax = plt.subplot(3, 20, i + 1)\n",
    "    plt.imshow(x_test[i].reshape(28, 28))\n",
    "    plt.gray()\n",
    "    ax.get_xaxis().set_visible(False)\n",
    "    ax.get_yaxis().set_visible(False)\n",
    "    \n",
    "    # display noisy images\n",
    "    ax = plt.subplot(3, 20, i + 1 + 20)\n",
    "    plt.imshow(x_test_noisy[i].reshape(28,28))\n",
    "    plt.gray()\n",
    "    ax.get_xaxis().set_visible(False)\n",
    "    ax.get_yaxis().set_visible(False)\n",
    "    \n",
    "    # display reconstructed images\n",
    "    ax = plt.subplot(3, 20, 2 * 20 + i + 1)\n",
    "    plt.imshow(predicted2[i].reshape(28, 28))\n",
    "    plt.gray()\n",
    "    ax.get_xaxis().set_visible(False)\n",
    "    ax.get_yaxis().set_visible(False)\n",
    "  \n",
    "    \n",
    "plt.show()"
   ]
  },
  {
   "cell_type": "code",
   "execution_count": 25,
   "metadata": {
    "colab": {},
    "colab_type": "code",
    "id": "GfGe-OLExLUB"
   },
   "outputs": [],
   "source": [
    "# from keras.datasets import mnist\n",
    "# import numpy as np\n",
    "\n",
    "# (x_train, _), (x_test, _) = mnist.load_data()\n",
    "\n",
    "# x_train = x_train.astype('float32') / 255.\n",
    "# x_test = x_test.astype('float32') / 255.\n",
    "# x_train = np.reshape(x_train, (len(x_train), 28, 28, 1))  # adapt this if using `channels_first` image data format\n",
    "# x_test = np.reshape(x_test, (len(x_test), 28, 28, 1))  # adapt this if using `channels_first` image data format\n",
    "\n",
    "# noise_factor = 0.5\n",
    "# x_train_noisy = x_train + noise_factor * np.random.normal(loc=0.0, scale=1.0, size=x_train.shape) \n",
    "# x_test_noisy = x_test + noise_factor * np.random.normal(loc=0.0, scale=1.0, size=x_test.shape) \n",
    "\n",
    "# x_train_noisy = np.clip(x_train_noisy, 0., 1.)\n",
    "# x_test_noisy = np.clip(x_test_noisy, 0., 1.)\n",
    "\n",
    "# n = 10\n",
    "# plt.figure(figsize=(20, 2))\n",
    "# for i in range(n):\n",
    "#     ax = plt.subplot(1, n, i+1)\n",
    "#     plt.imshow(x_test_noisy[i].reshape(28, 28))\n",
    "#     plt.gray()\n",
    "#     ax.get_xaxis().set_visible(False)\n",
    "#     ax.get_yaxis().set_visible(False)\n",
    "# plt.show()"
   ]
  }
 ],
 "metadata": {
  "accelerator": "GPU",
  "colab": {
   "collapsed_sections": [],
   "name": "DenoisingAutoencoder.ipynb",
   "provenance": [],
   "version": "0.3.2"
  },
  "kernelspec": {
   "display_name": "Python 3",
   "name": "python3"
  },
  "language_info": {
   "codemirror_mode": {
    "name": "ipython",
    "version": 3
   },
   "file_extension": ".py",
   "mimetype": "text/x-python",
   "name": "python",
   "nbconvert_exporter": "python",
   "pygments_lexer": "ipython3",
   "version": "3.6.6"
  }
 },
 "nbformat": 4,
 "nbformat_minor": 1
}
